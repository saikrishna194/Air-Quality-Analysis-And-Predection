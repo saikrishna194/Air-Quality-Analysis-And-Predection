{
  "nbformat": 4,
  "nbformat_minor": 0,
  "metadata": {
    "kernelspec": {
      "display_name": "Python 3",
      "language": "python",
      "name": "python3"
    },
    "language_info": {
      "codemirror_mode": {
        "name": "ipython",
        "version": 3
      },
      "file_extension": ".py",
      "mimetype": "text/x-python",
      "name": "python",
      "nbconvert_exporter": "python",
      "pygments_lexer": "ipython3",
      "version": "3.8.3"
    },
    "colab": {
      "name": "Air Quality Analysis  prediction Using machine learning.ipynb",
      "provenance": [],
      "collapsed_sections": [
        "LNiL0BMrFP6O",
        "78VO-xigFP6P",
        "oazyf8dNFP6R",
        "ZkGq8FRTFP6e",
        "oXgkFS9pFP6m",
        "DQsOjgnzFP6o",
        "70HZcOC_FP6p"
      ]
    }
  },
  "cells": [
    {
      "cell_type": "markdown",
      "metadata": {
        "id": "Py66e9UTFP5b"
      },
      "source": [
        "#### A report by the Health Effects Institute on air pollution in India (2018) reports that air pollution was responsible for 1.1 million deaths in India in 2015.\n",
        "\n",
        "\n",
        " \n",
        "#### Being a Data Scientist, I decided to analyze the air quality data of my own country to find some underlying principles or patterns which might give me an insight into how severe the problem is and I must say the results were worth sharing.\n",
        "\n",
        "#### So, here In this  Project, we will do some analysis on the air quality of India.\n",
        "\n",
        "#### Let’s start with importing the libraries:\n",
        "\n"
      ]
    },
    {
      "cell_type": "code",
      "metadata": {
        "id": "UIJgrkzZFP5s"
      },
      "source": [
        "import numpy as np \n",
        "import pandas as pd \n",
        "import seaborn as sns\n",
        "import matplotlib.pyplot as plt\n",
        "%matplotlib inline\n",
        "import warnings\n",
        "warnings.filterwarnings('ignore')\n"
      ],
      "execution_count": 1,
      "outputs": []
    },
    {
      "cell_type": "markdown",
      "metadata": {
        "id": "5i32bh0MFP5u"
      },
      "source": [
        "#### Download and load the data set"
      ]
    },
    {
      "cell_type": "code",
      "metadata": {
        "scrolled": true,
        "id": "EdHJR1SrFP5u"
      },
      "source": [
        "data=pd.read_csv('data.csv',encoding='latin1')"
      ],
      "execution_count": 2,
      "outputs": []
    },
    {
      "cell_type": "markdown",
      "metadata": {
        "id": "pBst3GgZFP5v"
      },
      "source": [
        "#### Let us get some insights about the data the number of entries in each column, the type of entry in each row, etc."
      ]
    },
    {
      "cell_type": "code",
      "metadata": {
        "colab": {
          "base_uri": "https://localhost:8080/",
          "height": 779
        },
        "id": "TEG4CT-XFP5w",
        "outputId": "c3ce20f8-48e7-4363-ebcb-ee95319aef8d"
      },
      "source": [
        "data"
      ],
      "execution_count": 3,
      "outputs": [
        {
          "output_type": "execute_result",
          "data": {
            "text/html": [
              "<div>\n",
              "<style scoped>\n",
              "    .dataframe tbody tr th:only-of-type {\n",
              "        vertical-align: middle;\n",
              "    }\n",
              "\n",
              "    .dataframe tbody tr th {\n",
              "        vertical-align: top;\n",
              "    }\n",
              "\n",
              "    .dataframe thead th {\n",
              "        text-align: right;\n",
              "    }\n",
              "</style>\n",
              "<table border=\"1\" class=\"dataframe\">\n",
              "  <thead>\n",
              "    <tr style=\"text-align: right;\">\n",
              "      <th></th>\n",
              "      <th>stn_code</th>\n",
              "      <th>sampling_date</th>\n",
              "      <th>state</th>\n",
              "      <th>location</th>\n",
              "      <th>agency</th>\n",
              "      <th>type</th>\n",
              "      <th>so2</th>\n",
              "      <th>no2</th>\n",
              "      <th>rspm</th>\n",
              "      <th>spm</th>\n",
              "      <th>location_monitoring_station</th>\n",
              "      <th>pm2_5</th>\n",
              "      <th>date</th>\n",
              "    </tr>\n",
              "  </thead>\n",
              "  <tbody>\n",
              "    <tr>\n",
              "      <th>0</th>\n",
              "      <td>150</td>\n",
              "      <td>February - M021990</td>\n",
              "      <td>Andhra Pradesh</td>\n",
              "      <td>Hyderabad</td>\n",
              "      <td>NaN</td>\n",
              "      <td>Residential, Rural and other Areas</td>\n",
              "      <td>4.8</td>\n",
              "      <td>17.4</td>\n",
              "      <td>NaN</td>\n",
              "      <td>NaN</td>\n",
              "      <td>NaN</td>\n",
              "      <td>NaN</td>\n",
              "      <td>1990-02-01</td>\n",
              "    </tr>\n",
              "    <tr>\n",
              "      <th>1</th>\n",
              "      <td>151</td>\n",
              "      <td>February - M021990</td>\n",
              "      <td>Andhra Pradesh</td>\n",
              "      <td>Hyderabad</td>\n",
              "      <td>NaN</td>\n",
              "      <td>Industrial Area</td>\n",
              "      <td>3.1</td>\n",
              "      <td>7.0</td>\n",
              "      <td>NaN</td>\n",
              "      <td>NaN</td>\n",
              "      <td>NaN</td>\n",
              "      <td>NaN</td>\n",
              "      <td>1990-02-01</td>\n",
              "    </tr>\n",
              "    <tr>\n",
              "      <th>2</th>\n",
              "      <td>152</td>\n",
              "      <td>February - M021990</td>\n",
              "      <td>Andhra Pradesh</td>\n",
              "      <td>Hyderabad</td>\n",
              "      <td>NaN</td>\n",
              "      <td>Residential, Rural and other Areas</td>\n",
              "      <td>6.2</td>\n",
              "      <td>28.5</td>\n",
              "      <td>NaN</td>\n",
              "      <td>NaN</td>\n",
              "      <td>NaN</td>\n",
              "      <td>NaN</td>\n",
              "      <td>1990-02-01</td>\n",
              "    </tr>\n",
              "    <tr>\n",
              "      <th>3</th>\n",
              "      <td>150</td>\n",
              "      <td>March - M031990</td>\n",
              "      <td>Andhra Pradesh</td>\n",
              "      <td>Hyderabad</td>\n",
              "      <td>NaN</td>\n",
              "      <td>Residential, Rural and other Areas</td>\n",
              "      <td>6.3</td>\n",
              "      <td>14.7</td>\n",
              "      <td>NaN</td>\n",
              "      <td>NaN</td>\n",
              "      <td>NaN</td>\n",
              "      <td>NaN</td>\n",
              "      <td>1990-03-01</td>\n",
              "    </tr>\n",
              "    <tr>\n",
              "      <th>4</th>\n",
              "      <td>151</td>\n",
              "      <td>March - M031990</td>\n",
              "      <td>Andhra Pradesh</td>\n",
              "      <td>Hyderabad</td>\n",
              "      <td>NaN</td>\n",
              "      <td>Industrial Area</td>\n",
              "      <td>4.7</td>\n",
              "      <td>7.5</td>\n",
              "      <td>NaN</td>\n",
              "      <td>NaN</td>\n",
              "      <td>NaN</td>\n",
              "      <td>NaN</td>\n",
              "      <td>1990-03-01</td>\n",
              "    </tr>\n",
              "    <tr>\n",
              "      <th>...</th>\n",
              "      <td>...</td>\n",
              "      <td>...</td>\n",
              "      <td>...</td>\n",
              "      <td>...</td>\n",
              "      <td>...</td>\n",
              "      <td>...</td>\n",
              "      <td>...</td>\n",
              "      <td>...</td>\n",
              "      <td>...</td>\n",
              "      <td>...</td>\n",
              "      <td>...</td>\n",
              "      <td>...</td>\n",
              "      <td>...</td>\n",
              "    </tr>\n",
              "    <tr>\n",
              "      <th>435737</th>\n",
              "      <td>SAMP</td>\n",
              "      <td>24-12-15</td>\n",
              "      <td>West Bengal</td>\n",
              "      <td>ULUBERIA</td>\n",
              "      <td>West Bengal State Pollution Control Board</td>\n",
              "      <td>RIRUO</td>\n",
              "      <td>22.0</td>\n",
              "      <td>50.0</td>\n",
              "      <td>143.0</td>\n",
              "      <td>NaN</td>\n",
              "      <td>Inside Rampal Industries,ULUBERIA</td>\n",
              "      <td>NaN</td>\n",
              "      <td>2015-12-24</td>\n",
              "    </tr>\n",
              "    <tr>\n",
              "      <th>435738</th>\n",
              "      <td>SAMP</td>\n",
              "      <td>29-12-15</td>\n",
              "      <td>West Bengal</td>\n",
              "      <td>ULUBERIA</td>\n",
              "      <td>West Bengal State Pollution Control Board</td>\n",
              "      <td>RIRUO</td>\n",
              "      <td>20.0</td>\n",
              "      <td>46.0</td>\n",
              "      <td>171.0</td>\n",
              "      <td>NaN</td>\n",
              "      <td>Inside Rampal Industries,ULUBERIA</td>\n",
              "      <td>NaN</td>\n",
              "      <td>2015-12-29</td>\n",
              "    </tr>\n",
              "    <tr>\n",
              "      <th>435739</th>\n",
              "      <td>NaN</td>\n",
              "      <td>NaN</td>\n",
              "      <td>andaman-and-nicobar-islands</td>\n",
              "      <td>NaN</td>\n",
              "      <td>NaN</td>\n",
              "      <td>NaN</td>\n",
              "      <td>NaN</td>\n",
              "      <td>NaN</td>\n",
              "      <td>NaN</td>\n",
              "      <td>NaN</td>\n",
              "      <td>NaN</td>\n",
              "      <td>NaN</td>\n",
              "      <td>NaN</td>\n",
              "    </tr>\n",
              "    <tr>\n",
              "      <th>435740</th>\n",
              "      <td>NaN</td>\n",
              "      <td>NaN</td>\n",
              "      <td>Lakshadweep</td>\n",
              "      <td>NaN</td>\n",
              "      <td>NaN</td>\n",
              "      <td>NaN</td>\n",
              "      <td>NaN</td>\n",
              "      <td>NaN</td>\n",
              "      <td>NaN</td>\n",
              "      <td>NaN</td>\n",
              "      <td>NaN</td>\n",
              "      <td>NaN</td>\n",
              "      <td>NaN</td>\n",
              "    </tr>\n",
              "    <tr>\n",
              "      <th>435741</th>\n",
              "      <td>NaN</td>\n",
              "      <td>NaN</td>\n",
              "      <td>Tripura</td>\n",
              "      <td>NaN</td>\n",
              "      <td>NaN</td>\n",
              "      <td>NaN</td>\n",
              "      <td>NaN</td>\n",
              "      <td>NaN</td>\n",
              "      <td>NaN</td>\n",
              "      <td>NaN</td>\n",
              "      <td>NaN</td>\n",
              "      <td>NaN</td>\n",
              "      <td>NaN</td>\n",
              "    </tr>\n",
              "  </tbody>\n",
              "</table>\n",
              "<p>435742 rows × 13 columns</p>\n",
              "</div>"
            ],
            "text/plain": [
              "       stn_code       sampling_date  ... pm2_5        date\n",
              "0           150  February - M021990  ...   NaN  1990-02-01\n",
              "1           151  February - M021990  ...   NaN  1990-02-01\n",
              "2           152  February - M021990  ...   NaN  1990-02-01\n",
              "3           150     March - M031990  ...   NaN  1990-03-01\n",
              "4           151     March - M031990  ...   NaN  1990-03-01\n",
              "...         ...                 ...  ...   ...         ...\n",
              "435737     SAMP            24-12-15  ...   NaN  2015-12-24\n",
              "435738     SAMP            29-12-15  ...   NaN  2015-12-29\n",
              "435739      NaN                 NaN  ...   NaN         NaN\n",
              "435740      NaN                 NaN  ...   NaN         NaN\n",
              "435741      NaN                 NaN  ...   NaN         NaN\n",
              "\n",
              "[435742 rows x 13 columns]"
            ]
          },
          "metadata": {
            "tags": []
          },
          "execution_count": 3
        }
      ]
    },
    {
      "cell_type": "code",
      "metadata": {
        "colab": {
          "base_uri": "https://localhost:8080/"
        },
        "id": "4vw1moZnFP5y",
        "outputId": "ea347161-8f05-453a-da10-c34e5bf2c187"
      },
      "source": [
        "data.info()"
      ],
      "execution_count": 4,
      "outputs": [
        {
          "output_type": "stream",
          "text": [
            "<class 'pandas.core.frame.DataFrame'>\n",
            "RangeIndex: 435742 entries, 0 to 435741\n",
            "Data columns (total 13 columns):\n",
            " #   Column                       Non-Null Count   Dtype  \n",
            "---  ------                       --------------   -----  \n",
            " 0   stn_code                     291665 non-null  object \n",
            " 1   sampling_date                435739 non-null  object \n",
            " 2   state                        435742 non-null  object \n",
            " 3   location                     435739 non-null  object \n",
            " 4   agency                       286261 non-null  object \n",
            " 5   type                         430349 non-null  object \n",
            " 6   so2                          401096 non-null  float64\n",
            " 7   no2                          419509 non-null  float64\n",
            " 8   rspm                         395520 non-null  float64\n",
            " 9   spm                          198355 non-null  float64\n",
            " 10  location_monitoring_station  408251 non-null  object \n",
            " 11  pm2_5                        9314 non-null    float64\n",
            " 12  date                         435735 non-null  object \n",
            "dtypes: float64(5), object(8)\n",
            "memory usage: 43.2+ MB\n"
          ],
          "name": "stdout"
        }
      ]
    },
    {
      "cell_type": "markdown",
      "metadata": {
        "id": "rBbWj4hqFP5z"
      },
      "source": [
        "##### Now, let us check the null values."
      ]
    },
    {
      "cell_type": "code",
      "metadata": {
        "colab": {
          "base_uri": "https://localhost:8080/"
        },
        "id": "Q8-zJlFbFP50",
        "outputId": "30de4594-1a0a-4c43-a997-ef91ff6e413c"
      },
      "source": [
        "data.isnull().sum()"
      ],
      "execution_count": 5,
      "outputs": [
        {
          "output_type": "execute_result",
          "data": {
            "text/plain": [
              "stn_code                       144077\n",
              "sampling_date                       3\n",
              "state                               0\n",
              "location                            3\n",
              "agency                         149481\n",
              "type                             5393\n",
              "so2                             34646\n",
              "no2                             16233\n",
              "rspm                            40222\n",
              "spm                            237387\n",
              "location_monitoring_station     27491\n",
              "pm2_5                          426428\n",
              "date                                7\n",
              "dtype: int64"
            ]
          },
          "metadata": {
            "tags": []
          },
          "execution_count": 5
        }
      ]
    },
    {
      "cell_type": "code",
      "metadata": {
        "colab": {
          "base_uri": "https://localhost:8080/"
        },
        "id": "-gqqbzB5FP50",
        "outputId": "12d7e8e3-70ef-4421-a4b8-490d4015c32f"
      },
      "source": [
        "data.columns"
      ],
      "execution_count": 6,
      "outputs": [
        {
          "output_type": "execute_result",
          "data": {
            "text/plain": [
              "Index(['stn_code', 'sampling_date', 'state', 'location', 'agency', 'type',\n",
              "       'so2', 'no2', 'rspm', 'spm', 'location_monitoring_station', 'pm2_5',\n",
              "       'date'],\n",
              "      dtype='object')"
            ]
          },
          "metadata": {
            "tags": []
          },
          "execution_count": 6
        }
      ]
    },
    {
      "cell_type": "code",
      "metadata": {
        "colab": {
          "base_uri": "https://localhost:8080/",
          "height": 297
        },
        "id": "DndPzqFjFP51",
        "outputId": "95709927-aded-4160-a710-27372d5558c4"
      },
      "source": [
        "data.describe()"
      ],
      "execution_count": 7,
      "outputs": [
        {
          "output_type": "execute_result",
          "data": {
            "text/html": [
              "<div>\n",
              "<style scoped>\n",
              "    .dataframe tbody tr th:only-of-type {\n",
              "        vertical-align: middle;\n",
              "    }\n",
              "\n",
              "    .dataframe tbody tr th {\n",
              "        vertical-align: top;\n",
              "    }\n",
              "\n",
              "    .dataframe thead th {\n",
              "        text-align: right;\n",
              "    }\n",
              "</style>\n",
              "<table border=\"1\" class=\"dataframe\">\n",
              "  <thead>\n",
              "    <tr style=\"text-align: right;\">\n",
              "      <th></th>\n",
              "      <th>so2</th>\n",
              "      <th>no2</th>\n",
              "      <th>rspm</th>\n",
              "      <th>spm</th>\n",
              "      <th>pm2_5</th>\n",
              "    </tr>\n",
              "  </thead>\n",
              "  <tbody>\n",
              "    <tr>\n",
              "      <th>count</th>\n",
              "      <td>401096.000000</td>\n",
              "      <td>419509.000000</td>\n",
              "      <td>395520.000000</td>\n",
              "      <td>198355.000000</td>\n",
              "      <td>9314.000000</td>\n",
              "    </tr>\n",
              "    <tr>\n",
              "      <th>mean</th>\n",
              "      <td>10.829414</td>\n",
              "      <td>25.809623</td>\n",
              "      <td>108.832784</td>\n",
              "      <td>220.783480</td>\n",
              "      <td>40.791467</td>\n",
              "    </tr>\n",
              "    <tr>\n",
              "      <th>std</th>\n",
              "      <td>11.177187</td>\n",
              "      <td>18.503086</td>\n",
              "      <td>74.872430</td>\n",
              "      <td>151.395457</td>\n",
              "      <td>30.832525</td>\n",
              "    </tr>\n",
              "    <tr>\n",
              "      <th>min</th>\n",
              "      <td>0.000000</td>\n",
              "      <td>0.000000</td>\n",
              "      <td>0.000000</td>\n",
              "      <td>0.000000</td>\n",
              "      <td>3.000000</td>\n",
              "    </tr>\n",
              "    <tr>\n",
              "      <th>25%</th>\n",
              "      <td>5.000000</td>\n",
              "      <td>14.000000</td>\n",
              "      <td>56.000000</td>\n",
              "      <td>111.000000</td>\n",
              "      <td>24.000000</td>\n",
              "    </tr>\n",
              "    <tr>\n",
              "      <th>50%</th>\n",
              "      <td>8.000000</td>\n",
              "      <td>22.000000</td>\n",
              "      <td>90.000000</td>\n",
              "      <td>187.000000</td>\n",
              "      <td>32.000000</td>\n",
              "    </tr>\n",
              "    <tr>\n",
              "      <th>75%</th>\n",
              "      <td>13.700000</td>\n",
              "      <td>32.200000</td>\n",
              "      <td>142.000000</td>\n",
              "      <td>296.000000</td>\n",
              "      <td>46.000000</td>\n",
              "    </tr>\n",
              "    <tr>\n",
              "      <th>max</th>\n",
              "      <td>909.000000</td>\n",
              "      <td>876.000000</td>\n",
              "      <td>6307.033333</td>\n",
              "      <td>3380.000000</td>\n",
              "      <td>504.000000</td>\n",
              "    </tr>\n",
              "  </tbody>\n",
              "</table>\n",
              "</div>"
            ],
            "text/plain": [
              "                 so2            no2           rspm            spm        pm2_5\n",
              "count  401096.000000  419509.000000  395520.000000  198355.000000  9314.000000\n",
              "mean       10.829414      25.809623     108.832784     220.783480    40.791467\n",
              "std        11.177187      18.503086      74.872430     151.395457    30.832525\n",
              "min         0.000000       0.000000       0.000000       0.000000     3.000000\n",
              "25%         5.000000      14.000000      56.000000     111.000000    24.000000\n",
              "50%         8.000000      22.000000      90.000000     187.000000    32.000000\n",
              "75%        13.700000      32.200000     142.000000     296.000000    46.000000\n",
              "max       909.000000     876.000000    6307.033333    3380.000000   504.000000"
            ]
          },
          "metadata": {
            "tags": []
          },
          "execution_count": 7
        }
      ]
    },
    {
      "cell_type": "code",
      "metadata": {
        "colab": {
          "base_uri": "https://localhost:8080/"
        },
        "id": "7T0wJKDFFP52",
        "outputId": "071ad835-e532-42e4-968f-e3aed75e937a"
      },
      "source": [
        "data.shape"
      ],
      "execution_count": 8,
      "outputs": [
        {
          "output_type": "execute_result",
          "data": {
            "text/plain": [
              "(435742, 13)"
            ]
          },
          "metadata": {
            "tags": []
          },
          "execution_count": 8
        }
      ]
    },
    {
      "cell_type": "markdown",
      "metadata": {
        "id": "uYwXr27cFP53"
      },
      "source": [
        "### Visualization for states with highest pollutants"
      ]
    },
    {
      "cell_type": "code",
      "metadata": {
        "colab": {
          "base_uri": "https://localhost:8080/",
          "height": 379
        },
        "id": "UQNrqnI6FP53",
        "outputId": "20e64639-3c8c-4b6c-b433-ae6d385af82e"
      },
      "source": [
        "data[['so2','state']].groupby([\"state\"]).mean().sort_values(by='so2').head(20).plot.bar(color='b')\n",
        "plt.show()"
      ],
      "execution_count": 9,
      "outputs": [
        {
          "output_type": "display_data",
          "data": {
            "image/png": "[encoded data removed]",
            "text/plain": [
              "<Figure size 432x288 with 1 Axes>"
            ]
          },
          "metadata": {
            "tags": [],
            "needs_background": "light"
          }
        }
      ]
    },
    {
      "cell_type": "code",
      "metadata": {
        "colab": {
          "base_uri": "https://localhost:8080/",
          "height": 379
        },
        "id": "iRipJrxkFP54",
        "outputId": "e086c148-f3e6-4d36-bf5c-f7486c7fc74d"
      },
      "source": [
        "data[['no2','state']].groupby([\"state\"]).mean().sort_values(by='no2').head(20).plot.bar(color='r')\n",
        "plt.show()"
      ],
      "execution_count": 10,
      "outputs": [
        {
          "output_type": "display_data",
          "data": {
            "image/png": "[encoded data removed]",
            "text/plain": [
              "<Figure size 432x288 with 1 Axes>"
            ]
          },
          "metadata": {
            "tags": [],
            "needs_background": "light"
          }
        }
      ]
    },
    {
      "cell_type": "code",
      "metadata": {
        "colab": {
          "base_uri": "https://localhost:8080/",
          "height": 379
        },
        "id": "6HS83sBnFP54",
        "outputId": "834b36c2-ca6a-4d4a-8ab7-9dea50ecbcad"
      },
      "source": [
        "data[['spm','state']].groupby([\"state\"]).mean().sort_values(by='spm').head(20).plot.bar(color='b')\n",
        "plt.show()"
      ],
      "execution_count": 11,
      "outputs": [
        {
          "output_type": "display_data",
          "data": {
            "image/png": "[encoded data removed]",
            "text/plain": [
              "<Figure size 432x288 with 1 Axes>"
            ]
          },
          "metadata": {
            "tags": [],
            "needs_background": "light"
          }
        }
      ]
    },
    {
      "cell_type": "code",
      "metadata": {
        "colab": {
          "base_uri": "https://localhost:8080/",
          "height": 379
        },
        "id": "SPRJ_khyFP55",
        "outputId": "5fda7cc4-f555-4dde-fae5-7a6ce321aad5"
      },
      "source": [
        "plt.show()"
      ],
      "execution_count": 12,
      "outputs": [
        {
          "output_type": "display_data",
          "data": {
            "image/png": "[encoded data removed]",
            "text/plain": [
              "<Figure size 432x288 with 1 Axes>"
            ]
          },
          "metadata": {
            "tags": [],
            "needs_background": "light"
          }
        }
      ]
    },
    {
      "cell_type": "markdown",
      "metadata": {
        "id": "N4n6EgTGFP56"
      },
      "source": [
        "### DROP UNNECESSARY COLUMN"
      ]
    },
    {
      "cell_type": "code",
      "metadata": {
        "colab": {
          "base_uri": "https://localhost:8080/",
          "height": 651
        },
        "id": "c-IEM1UVFP56",
        "outputId": "03b0ce5d-08d4-4f81-f239-5cac29cbdf20"
      },
      "source": [
        "data.head(10)"
      ],
      "execution_count": 13,
      "outputs": [
        {
          "output_type": "execute_result",
          "data": {
            "text/html": [
              "<div>\n",
              "<style scoped>\n",
              "    .dataframe tbody tr th:only-of-type {\n",
              "        vertical-align: middle;\n",
              "    }\n",
              "\n",
              "    .dataframe tbody tr th {\n",
              "        vertical-align: top;\n",
              "    }\n",
              "\n",
              "    .dataframe thead th {\n",
              "        text-align: right;\n",
              "    }\n",
              "</style>\n",
              "<table border=\"1\" class=\"dataframe\">\n",
              "  <thead>\n",
              "    <tr style=\"text-align: right;\">\n",
              "      <th></th>\n",
              "      <th>stn_code</th>\n",
              "      <th>sampling_date</th>\n",
              "      <th>state</th>\n",
              "      <th>location</th>\n",
              "      <th>agency</th>\n",
              "      <th>type</th>\n",
              "      <th>so2</th>\n",
              "      <th>no2</th>\n",
              "      <th>rspm</th>\n",
              "      <th>spm</th>\n",
              "      <th>location_monitoring_station</th>\n",
              "      <th>pm2_5</th>\n",
              "      <th>date</th>\n",
              "    </tr>\n",
              "  </thead>\n",
              "  <tbody>\n",
              "    <tr>\n",
              "      <th>0</th>\n",
              "      <td>150</td>\n",
              "      <td>February - M021990</td>\n",
              "      <td>Andhra Pradesh</td>\n",
              "      <td>Hyderabad</td>\n",
              "      <td>NaN</td>\n",
              "      <td>Residential, Rural and other Areas</td>\n",
              "      <td>4.8</td>\n",
              "      <td>17.4</td>\n",
              "      <td>NaN</td>\n",
              "      <td>NaN</td>\n",
              "      <td>NaN</td>\n",
              "      <td>NaN</td>\n",
              "      <td>1990-02-01</td>\n",
              "    </tr>\n",
              "    <tr>\n",
              "      <th>1</th>\n",
              "      <td>151</td>\n",
              "      <td>February - M021990</td>\n",
              "      <td>Andhra Pradesh</td>\n",
              "      <td>Hyderabad</td>\n",
              "      <td>NaN</td>\n",
              "      <td>Industrial Area</td>\n",
              "      <td>3.1</td>\n",
              "      <td>7.0</td>\n",
              "      <td>NaN</td>\n",
              "      <td>NaN</td>\n",
              "      <td>NaN</td>\n",
              "      <td>NaN</td>\n",
              "      <td>1990-02-01</td>\n",
              "    </tr>\n",
              "    <tr>\n",
              "      <th>2</th>\n",
              "      <td>152</td>\n",
              "      <td>February - M021990</td>\n",
              "      <td>Andhra Pradesh</td>\n",
              "      <td>Hyderabad</td>\n",
              "      <td>NaN</td>\n",
              "      <td>Residential, Rural and other Areas</td>\n",
              "      <td>6.2</td>\n",
              "      <td>28.5</td>\n",
              "      <td>NaN</td>\n",
              "      <td>NaN</td>\n",
              "      <td>NaN</td>\n",
              "      <td>NaN</td>\n",
              "      <td>1990-02-01</td>\n",
              "    </tr>\n",
              "    <tr>\n",
              "      <th>3</th>\n",
              "      <td>150</td>\n",
              "      <td>March - M031990</td>\n",
              "      <td>Andhra Pradesh</td>\n",
              "      <td>Hyderabad</td>\n",
              "      <td>NaN</td>\n",
              "      <td>Residential, Rural and other Areas</td>\n",
              "      <td>6.3</td>\n",
              "      <td>14.7</td>\n",
              "      <td>NaN</td>\n",
              "      <td>NaN</td>\n",
              "      <td>NaN</td>\n",
              "      <td>NaN</td>\n",
              "      <td>1990-03-01</td>\n",
              "    </tr>\n",
              "    <tr>\n",
              "      <th>4</th>\n",
              "      <td>151</td>\n",
              "      <td>March - M031990</td>\n",
              "      <td>Andhra Pradesh</td>\n",
              "      <td>Hyderabad</td>\n",
              "      <td>NaN</td>\n",
              "      <td>Industrial Area</td>\n",
              "      <td>4.7</td>\n",
              "      <td>7.5</td>\n",
              "      <td>NaN</td>\n",
              "      <td>NaN</td>\n",
              "      <td>NaN</td>\n",
              "      <td>NaN</td>\n",
              "      <td>1990-03-01</td>\n",
              "    </tr>\n",
              "    <tr>\n",
              "      <th>5</th>\n",
              "      <td>152</td>\n",
              "      <td>March - M031990</td>\n",
              "      <td>Andhra Pradesh</td>\n",
              "      <td>Hyderabad</td>\n",
              "      <td>NaN</td>\n",
              "      <td>Residential, Rural and other Areas</td>\n",
              "      <td>6.4</td>\n",
              "      <td>25.7</td>\n",
              "      <td>NaN</td>\n",
              "      <td>NaN</td>\n",
              "      <td>NaN</td>\n",
              "      <td>NaN</td>\n",
              "      <td>1990-03-01</td>\n",
              "    </tr>\n",
              "    <tr>\n",
              "      <th>6</th>\n",
              "      <td>150</td>\n",
              "      <td>April - M041990</td>\n",
              "      <td>Andhra Pradesh</td>\n",
              "      <td>Hyderabad</td>\n",
              "      <td>NaN</td>\n",
              "      <td>Residential, Rural and other Areas</td>\n",
              "      <td>5.4</td>\n",
              "      <td>17.1</td>\n",
              "      <td>NaN</td>\n",
              "      <td>NaN</td>\n",
              "      <td>NaN</td>\n",
              "      <td>NaN</td>\n",
              "      <td>1990-04-01</td>\n",
              "    </tr>\n",
              "    <tr>\n",
              "      <th>7</th>\n",
              "      <td>151</td>\n",
              "      <td>April - M041990</td>\n",
              "      <td>Andhra Pradesh</td>\n",
              "      <td>Hyderabad</td>\n",
              "      <td>NaN</td>\n",
              "      <td>Industrial Area</td>\n",
              "      <td>4.7</td>\n",
              "      <td>8.7</td>\n",
              "      <td>NaN</td>\n",
              "      <td>NaN</td>\n",
              "      <td>NaN</td>\n",
              "      <td>NaN</td>\n",
              "      <td>1990-04-01</td>\n",
              "    </tr>\n",
              "    <tr>\n",
              "      <th>8</th>\n",
              "      <td>152</td>\n",
              "      <td>April - M041990</td>\n",
              "      <td>Andhra Pradesh</td>\n",
              "      <td>Hyderabad</td>\n",
              "      <td>NaN</td>\n",
              "      <td>Residential, Rural and other Areas</td>\n",
              "      <td>4.2</td>\n",
              "      <td>23.0</td>\n",
              "      <td>NaN</td>\n",
              "      <td>NaN</td>\n",
              "      <td>NaN</td>\n",
              "      <td>NaN</td>\n",
              "      <td>1990-04-01</td>\n",
              "    </tr>\n",
              "    <tr>\n",
              "      <th>9</th>\n",
              "      <td>151</td>\n",
              "      <td>May - M051990</td>\n",
              "      <td>Andhra Pradesh</td>\n",
              "      <td>Hyderabad</td>\n",
              "      <td>NaN</td>\n",
              "      <td>Industrial Area</td>\n",
              "      <td>4.0</td>\n",
              "      <td>8.9</td>\n",
              "      <td>NaN</td>\n",
              "      <td>NaN</td>\n",
              "      <td>NaN</td>\n",
              "      <td>NaN</td>\n",
              "      <td>1990-05-01</td>\n",
              "    </tr>\n",
              "  </tbody>\n",
              "</table>\n",
              "</div>"
            ],
            "text/plain": [
              "  stn_code       sampling_date  ... pm2_5        date\n",
              "0      150  February - M021990  ...   NaN  1990-02-01\n",
              "1      151  February - M021990  ...   NaN  1990-02-01\n",
              "2      152  February - M021990  ...   NaN  1990-02-01\n",
              "3      150     March - M031990  ...   NaN  1990-03-01\n",
              "4      151     March - M031990  ...   NaN  1990-03-01\n",
              "5      152     March - M031990  ...   NaN  1990-03-01\n",
              "6      150     April - M041990  ...   NaN  1990-04-01\n",
              "7      151     April - M041990  ...   NaN  1990-04-01\n",
              "8      152     April - M041990  ...   NaN  1990-04-01\n",
              "9      151       May - M051990  ...   NaN  1990-05-01\n",
              "\n",
              "[10 rows x 13 columns]"
            ]
          },
          "metadata": {
            "tags": []
          },
          "execution_count": 13
        }
      ]
    },
    {
      "cell_type": "code",
      "metadata": {
        "id": "KSS_T5HuFP57"
      },
      "source": [
        "total = data.isnull().sum().sort_values(ascending=False)"
      ],
      "execution_count": 14,
      "outputs": []
    },
    {
      "cell_type": "code",
      "metadata": {
        "colab": {
          "base_uri": "https://localhost:8080/"
        },
        "id": "uJ1vX7cvFP57",
        "outputId": "333d594b-0ba9-4bde-de5a-9455390eac53"
      },
      "source": [
        "total.head()"
      ],
      "execution_count": 15,
      "outputs": [
        {
          "output_type": "execute_result",
          "data": {
            "text/plain": [
              "pm2_5       426428\n",
              "spm         237387\n",
              "agency      149481\n",
              "stn_code    144077\n",
              "rspm         40222\n",
              "dtype: int64"
            ]
          },
          "metadata": {
            "tags": []
          },
          "execution_count": 15
        }
      ]
    },
    {
      "cell_type": "code",
      "metadata": {
        "id": "KFwde2bYFP58"
      },
      "source": [
        "percent = (data.isnull().sum()/data.isnull().count()*100).sort_values(ascending=False)  #count(returns Non-NAN value)"
      ],
      "execution_count": 16,
      "outputs": []
    },
    {
      "cell_type": "code",
      "metadata": {
        "id": "DBQggMgHFP58"
      },
      "source": [
        "\n",
        "missing_data = pd.concat([total, percent], axis=1, keys=['Total', 'Percent'])"
      ],
      "execution_count": 17,
      "outputs": []
    },
    {
      "cell_type": "code",
      "metadata": {
        "colab": {
          "base_uri": "https://localhost:8080/",
          "height": 204
        },
        "id": "SDwM9YVrFP58",
        "outputId": "2a44b674-5cb9-45ce-9f13-2f64ed7bcd45"
      },
      "source": [
        "\n",
        "missing_data.head()"
      ],
      "execution_count": 18,
      "outputs": [
        {
          "output_type": "execute_result",
          "data": {
            "text/html": [
              "<div>\n",
              "<style scoped>\n",
              "    .dataframe tbody tr th:only-of-type {\n",
              "        vertical-align: middle;\n",
              "    }\n",
              "\n",
              "    .dataframe tbody tr th {\n",
              "        vertical-align: top;\n",
              "    }\n",
              "\n",
              "    .dataframe thead th {\n",
              "        text-align: right;\n",
              "    }\n",
              "</style>\n",
              "<table border=\"1\" class=\"dataframe\">\n",
              "  <thead>\n",
              "    <tr style=\"text-align: right;\">\n",
              "      <th></th>\n",
              "      <th>Total</th>\n",
              "      <th>Percent</th>\n",
              "    </tr>\n",
              "  </thead>\n",
              "  <tbody>\n",
              "    <tr>\n",
              "      <th>pm2_5</th>\n",
              "      <td>426428</td>\n",
              "      <td>97.862497</td>\n",
              "    </tr>\n",
              "    <tr>\n",
              "      <th>spm</th>\n",
              "      <td>237387</td>\n",
              "      <td>54.478797</td>\n",
              "    </tr>\n",
              "    <tr>\n",
              "      <th>agency</th>\n",
              "      <td>149481</td>\n",
              "      <td>34.304933</td>\n",
              "    </tr>\n",
              "    <tr>\n",
              "      <th>stn_code</th>\n",
              "      <td>144077</td>\n",
              "      <td>33.064749</td>\n",
              "    </tr>\n",
              "    <tr>\n",
              "      <th>rspm</th>\n",
              "      <td>40222</td>\n",
              "      <td>9.230692</td>\n",
              "    </tr>\n",
              "  </tbody>\n",
              "</table>\n",
              "</div>"
            ],
            "text/plain": [
              "           Total    Percent\n",
              "pm2_5     426428  97.862497\n",
              "spm       237387  54.478797\n",
              "agency    149481  34.304933\n",
              "stn_code  144077  33.064749\n",
              "rspm       40222   9.230692"
            ]
          },
          "metadata": {
            "tags": []
          },
          "execution_count": 18
        }
      ]
    },
    {
      "cell_type": "markdown",
      "metadata": {
        "id": "fnZJZZULFP59"
      },
      "source": [
        "### MISSING VALUE PERCENT"
      ]
    },
    {
      "cell_type": "code",
      "metadata": {
        "colab": {
          "base_uri": "https://localhost:8080/",
          "height": 327
        },
        "id": "aIyLo8U6FP5-",
        "outputId": "cc560e2f-2c5f-482a-b891-756be9b502a2"
      },
      "source": [
        "\n",
        "sns.barplot(x=missing_data.index, y=missing_data['Percent'])\n",
        "plt.xlabel('Features', fontsize=20)\n",
        "plt.ylabel('Percent of missing values', fontsize=20)\n",
        "plt.title('Percent missing data by feature', fontsize=20)"
      ],
      "execution_count": 44,
      "outputs": [
        {
          "output_type": "execute_result",
          "data": {
            "text/plain": [
              "Text(0.5, 1.0, 'Percent missing data by feature')"
            ]
          },
          "metadata": {
            "tags": []
          },
          "execution_count": 44
        },
        {
          "output_type": "display_data",
          "data": {
            "image/png": "[encoded data removed]",
            "text/plain": [
              "<Figure size 432x288 with 1 Axes>"
            ]
          },
          "metadata": {
            "tags": [],
            "needs_background": "light"
          }
        }
      ]
    },
    {
      "cell_type": "markdown",
      "metadata": {
        "id": "aA_Pxz93FP5_"
      },
      "source": [
        "### CHECKING DATA DISTRIBUTION"
      ]
    },
    {
      "cell_type": "code",
      "metadata": {
        "colab": {
          "base_uri": "https://localhost:8080/",
          "height": 350
        },
        "id": "sCVFGOalFP5_",
        "outputId": "72d271c7-234c-40cf-f50d-da32b821a2a4"
      },
      "source": [
        "plt.hist(data.spm,range=(0.0,4000))"
      ],
      "execution_count": 45,
      "outputs": [
        {
          "output_type": "execute_result",
          "data": {
            "text/plain": [
              "(array([4.07548e+05, 2.30180e+04, 1.02600e+03, 6.10000e+01, 1.10000e+01,\n",
              "        4.00000e+00, 2.00000e+00, 0.00000e+00, 1.00000e+00, 0.00000e+00]),\n",
              " array([   0.,  400.,  800., 1200., 1600., 2000., 2400., 2800., 3200.,\n",
              "        3600., 4000.]),\n",
              " <a list of 10 Patch objects>)"
            ]
          },
          "metadata": {
            "tags": []
          },
          "execution_count": 45
        },
        {
          "output_type": "display_data",
          "data": {
            "image/png": "[encoded data removed]",
            "text/plain": [
              "<Figure size 432x288 with 1 Axes>"
            ]
          },
          "metadata": {
            "tags": [],
            "needs_background": "light"
          }
        }
      ]
    },
    {
      "cell_type": "code",
      "metadata": {
        "colab": {
          "base_uri": "https://localhost:8080/",
          "height": 350
        },
        "id": "2Dxtp6iOFP6A",
        "outputId": "99a3c949-3f92-49a1-a82e-de044b524b51"
      },
      "source": [
        "plt.hist(data.so2,range=(0,1000)) #so2"
      ],
      "execution_count": 46,
      "outputs": [
        {
          "output_type": "execute_result",
          "data": {
            "text/plain": [
              "(array([4.35165e+05, 4.81000e+02, 6.40000e+01, 2.10000e+01, 6.00000e+00,\n",
              "        1.00000e+00, 0.00000e+00, 0.00000e+00, 0.00000e+00, 1.00000e+00]),\n",
              " array([   0.,  100.,  200.,  300.,  400.,  500.,  600.,  700.,  800.,\n",
              "         900., 1000.]),\n",
              " <a list of 10 Patch objects>)"
            ]
          },
          "metadata": {
            "tags": []
          },
          "execution_count": 46
        },
        {
          "output_type": "display_data",
          "data": {
            "image/png": "[encoded data removed]",
            "text/plain": [
              "<Figure size 432x288 with 1 Axes>"
            ]
          },
          "metadata": {
            "tags": [],
            "needs_background": "light"
          }
        }
      ]
    },
    {
      "cell_type": "code",
      "metadata": {
        "colab": {
          "base_uri": "https://localhost:8080/",
          "height": 350
        },
        "id": "2XA36rahFP6A",
        "outputId": "2a688150-e912-477a-e5e7-74d2d33dac4c"
      },
      "source": [
        "plt.hist(data.no2,range=(0,1000)) #no2"
      ],
      "execution_count": 47,
      "outputs": [
        {
          "output_type": "execute_result",
          "data": {
            "text/plain": [
              "(array([4.32458e+05, 3.10400e+03, 1.32000e+02, 3.20000e+01, 7.00000e+00,\n",
              "        3.00000e+00, 2.00000e+00, 0.00000e+00, 1.00000e+00, 0.00000e+00]),\n",
              " array([   0.,  100.,  200.,  300.,  400.,  500.,  600.,  700.,  800.,\n",
              "         900., 1000.]),\n",
              " <a list of 10 Patch objects>)"
            ]
          },
          "metadata": {
            "tags": []
          },
          "execution_count": 47
        },
        {
          "output_type": "display_data",
          "data": {
            "image/png": "[encoded data removed]",
            "text/plain": [
              "<Figure size 432x288 with 1 Axes>"
            ]
          },
          "metadata": {
            "tags": [],
            "needs_background": "light"
          }
        }
      ]
    },
    {
      "cell_type": "code",
      "metadata": {
        "colab": {
          "base_uri": "https://localhost:8080/",
          "height": 354
        },
        "id": "_VfSTuRXFP6B",
        "outputId": "59d2a14a-37f2-47c9-cc65-ee5f1690c58c"
      },
      "source": [
        "plt.hist(data.rspm,range=(0,1000)) #rspm"
      ],
      "execution_count": 48,
      "outputs": [
        {
          "output_type": "execute_result",
          "data": {
            "text/plain": [
              "(array([2.38341e+05, 1.52847e+05, 3.53940e+04, 6.80600e+03, 1.61300e+03,\n",
              "        5.01000e+02, 1.42000e+02, 5.60000e+01, 2.30000e+01, 9.00000e+00]),\n",
              " array([   0.,  100.,  200.,  300.,  400.,  500.,  600.,  700.,  800.,\n",
              "         900., 1000.]),\n",
              " <a list of 10 Patch objects>)"
            ]
          },
          "metadata": {
            "tags": []
          },
          "execution_count": 48
        },
        {
          "output_type": "display_data",
          "data": {
            "image/png": "[encoded data removed]",
            "text/plain": [
              "<Figure size 432x288 with 1 Axes>"
            ]
          },
          "metadata": {
            "tags": [],
            "needs_background": "light"
          }
        }
      ]
    },
    {
      "cell_type": "code",
      "metadata": {
        "colab": {
          "base_uri": "https://localhost:8080/",
          "height": 350
        },
        "id": "9qj9aANNFP6B",
        "outputId": "cbcc2aac-ed46-4f6a-c163-4fc8d2081cfe"
      },
      "source": [
        "plt.hist(data.pm2_5,range=(0,1000)) #pm2_5"
      ],
      "execution_count": 49,
      "outputs": [
        {
          "output_type": "execute_result",
          "data": {
            "text/plain": [
              "(array([1.23295e+05, 3.47000e+02, 3.90000e+01, 7.00000e+00, 0.00000e+00,\n",
              "        1.00000e+00, 0.00000e+00, 0.00000e+00, 0.00000e+00, 0.00000e+00]),\n",
              " array([   0.,  100.,  200.,  300.,  400.,  500.,  600.,  700.,  800.,\n",
              "         900., 1000.]),\n",
              " <a list of 10 Patch objects>)"
            ]
          },
          "metadata": {
            "tags": []
          },
          "execution_count": 49
        },
        {
          "output_type": "display_data",
          "data": {
            "image/png": "[encoded data removed]",
            "text/plain": [
              "<Figure size 432x288 with 1 Axes>"
            ]
          },
          "metadata": {
            "tags": [],
            "needs_background": "light"
          }
        }
      ]
    },
    {
      "cell_type": "code",
      "metadata": {
        "id": "rqa2TCXvFP6B"
      },
      "source": [
        "grp_state = data.groupby('state')"
      ],
      "execution_count": 50,
      "outputs": []
    },
    {
      "cell_type": "code",
      "metadata": {
        "id": "MZX-NppDFP6C"
      },
      "source": [
        "def impute_mean_by_state(series):\n",
        "    return series.fillna(series.mean())"
      ],
      "execution_count": 51,
      "outputs": []
    },
    {
      "cell_type": "code",
      "metadata": {
        "id": "cGbLxlR0FP6C"
      },
      "source": [
        "\n",
        "data['rspm']=grp_state['rspm'].transform(impute_mean_by_state)  #fill value with mean value group by state\n",
        "data['so2']=grp_state['so2'].transform(impute_mean_by_state)\n",
        "data['no2']=grp_state['no2'].transform(impute_mean_by_state)\n",
        "data['spm']=grp_state['spm'].transform(impute_mean_by_state)\n",
        "data['pm2_5']=grp_state['pm2_5'].transform(impute_mean_by_state)"
      ],
      "execution_count": 52,
      "outputs": []
    },
    {
      "cell_type": "code",
      "metadata": {
        "colab": {
          "base_uri": "https://localhost:8080/",
          "height": 297
        },
        "id": "BZuSwVa_FP6D",
        "outputId": "e8a9befc-1754-4569-b1cb-e41c9fff2ba5"
      },
      "source": [
        "\n",
        "data.describe()"
      ],
      "execution_count": 53,
      "outputs": [
        {
          "output_type": "execute_result",
          "data": {
            "text/html": [
              "<div>\n",
              "<style scoped>\n",
              "    .dataframe tbody tr th:only-of-type {\n",
              "        vertical-align: middle;\n",
              "    }\n",
              "\n",
              "    .dataframe tbody tr th {\n",
              "        vertical-align: top;\n",
              "    }\n",
              "\n",
              "    .dataframe thead th {\n",
              "        text-align: right;\n",
              "    }\n",
              "</style>\n",
              "<table border=\"1\" class=\"dataframe\">\n",
              "  <thead>\n",
              "    <tr style=\"text-align: right;\">\n",
              "      <th></th>\n",
              "      <th>so2</th>\n",
              "      <th>no2</th>\n",
              "      <th>rspm</th>\n",
              "      <th>spm</th>\n",
              "      <th>pm2_5</th>\n",
              "      <th>SOi</th>\n",
              "      <th>Noi</th>\n",
              "    </tr>\n",
              "  </thead>\n",
              "  <tbody>\n",
              "    <tr>\n",
              "      <th>count</th>\n",
              "      <td>435739.000000</td>\n",
              "      <td>435739.000000</td>\n",
              "      <td>435739.000000</td>\n",
              "      <td>431671.000000</td>\n",
              "      <td>123689.000000</td>\n",
              "      <td>435742.000000</td>\n",
              "      <td>435739.000000</td>\n",
              "    </tr>\n",
              "    <tr>\n",
              "      <th>mean</th>\n",
              "      <td>10.589141</td>\n",
              "      <td>25.663170</td>\n",
              "      <td>109.680907</td>\n",
              "      <td>215.198748</td>\n",
              "      <td>48.317274</td>\n",
              "      <td>13.137588</td>\n",
              "      <td>31.960733</td>\n",
              "    </tr>\n",
              "    <tr>\n",
              "      <th>std</th>\n",
              "      <td>10.863679</td>\n",
              "      <td>18.271145</td>\n",
              "      <td>72.519399</td>\n",
              "      <td>117.470157</td>\n",
              "      <td>21.455206</td>\n",
              "      <td>12.085914</td>\n",
              "      <td>21.976656</td>\n",
              "    </tr>\n",
              "    <tr>\n",
              "      <th>min</th>\n",
              "      <td>0.000000</td>\n",
              "      <td>0.000000</td>\n",
              "      <td>0.000000</td>\n",
              "      <td>0.000000</td>\n",
              "      <td>3.000000</td>\n",
              "      <td>0.000000</td>\n",
              "      <td>0.000000</td>\n",
              "    </tr>\n",
              "    <tr>\n",
              "      <th>25%</th>\n",
              "      <td>4.800000</td>\n",
              "      <td>14.000000</td>\n",
              "      <td>59.000000</td>\n",
              "      <td>142.000000</td>\n",
              "      <td>30.729696</td>\n",
              "      <td>6.000000</td>\n",
              "      <td>17.500000</td>\n",
              "    </tr>\n",
              "    <tr>\n",
              "      <th>50%</th>\n",
              "      <td>8.000000</td>\n",
              "      <td>21.800000</td>\n",
              "      <td>93.000000</td>\n",
              "      <td>205.255823</td>\n",
              "      <td>42.204089</td>\n",
              "      <td>10.000000</td>\n",
              "      <td>27.250000</td>\n",
              "    </tr>\n",
              "    <tr>\n",
              "      <th>75%</th>\n",
              "      <td>13.000000</td>\n",
              "      <td>32.000000</td>\n",
              "      <td>142.016832</td>\n",
              "      <td>248.000000</td>\n",
              "      <td>64.890625</td>\n",
              "      <td>16.250000</td>\n",
              "      <td>40.000000</td>\n",
              "    </tr>\n",
              "    <tr>\n",
              "      <th>max</th>\n",
              "      <td>909.000000</td>\n",
              "      <td>876.000000</td>\n",
              "      <td>6307.033333</td>\n",
              "      <td>3380.000000</td>\n",
              "      <td>504.000000</td>\n",
              "      <td>313.625000</td>\n",
              "      <td>796.666667</td>\n",
              "    </tr>\n",
              "  </tbody>\n",
              "</table>\n",
              "</div>"
            ],
            "text/plain": [
              "                 so2            no2  ...            SOi            Noi\n",
              "count  435739.000000  435739.000000  ...  435742.000000  435739.000000\n",
              "mean       10.589141      25.663170  ...      13.137588      31.960733\n",
              "std        10.863679      18.271145  ...      12.085914      21.976656\n",
              "min         0.000000       0.000000  ...       0.000000       0.000000\n",
              "25%         4.800000      14.000000  ...       6.000000      17.500000\n",
              "50%         8.000000      21.800000  ...      10.000000      27.250000\n",
              "75%        13.000000      32.000000  ...      16.250000      40.000000\n",
              "max       909.000000     876.000000  ...     313.625000     796.666667\n",
              "\n",
              "[8 rows x 7 columns]"
            ]
          },
          "metadata": {
            "tags": []
          },
          "execution_count": 53
        }
      ]
    },
    {
      "cell_type": "code",
      "metadata": {
        "colab": {
          "base_uri": "https://localhost:8080/"
        },
        "id": "DM924Q7uFP6D",
        "outputId": "626f0715-22f7-43bc-d338-ebbeb5c6f46e"
      },
      "source": [
        "data.isna().sum()"
      ],
      "execution_count": 54,
      "outputs": [
        {
          "output_type": "execute_result",
          "data": {
            "text/plain": [
              "stn_code                       144077\n",
              "sampling_date                       3\n",
              "state                               0\n",
              "location                            3\n",
              "agency                         149481\n",
              "type                             5393\n",
              "so2                                 3\n",
              "no2                                 3\n",
              "rspm                                3\n",
              "spm                              4071\n",
              "location_monitoring_station     27491\n",
              "pm2_5                          312053\n",
              "date                                7\n",
              "SOi                                 0\n",
              "Noi                                 3\n",
              "dtype: int64"
            ]
          },
          "metadata": {
            "tags": []
          },
          "execution_count": 54
        }
      ]
    },
    {
      "cell_type": "markdown",
      "metadata": {
        "id": "9TA_WFO8FP6E"
      },
      "source": [
        "### CALCULATE AIR QUALITY INDEX FOR SO2 BASED ON FORMULA¶"
      ]
    },
    {
      "cell_type": "markdown",
      "metadata": {
        "id": "iRn1Ym7uFP6E"
      },
      "source": [
        "The air quality index is a piecewise linear function of the pollutant concentration. At the boundary between AQI categories, there is a discontinuous jump of one AQI unit. To convert from concentration to AQI this equation is used$$\\begin{equation*}\n",
        "I = I_{low} +  \\frac{I_{high}-I_{low}}{C_{high}-C_{low}}{(C-C_{low})}\n",
        "\\end{equation*}$$"
      ]
    },
    {
      "cell_type": "code",
      "metadata": {
        "colab": {
          "base_uri": "https://localhost:8080/",
          "height": 37
        },
        "id": "pQoE0JHUFP6E",
        "outputId": "1f7ebbdd-d7d6-45dc-897b-572954742bc7"
      },
      "source": [
        "from IPython.display import Image\n",
        "Image(url= \"http://airquality.deq.idaho.gov/Information_AQI_files/image002.jpg\")"
      ],
      "execution_count": 55,
      "outputs": [
        {
          "output_type": "execute_result",
          "data": {
            "text/html": [
              "<img src=\"http://airquality.deq.idaho.gov/Information_AQI_files/image002.jpg\"/>"
            ],
            "text/plain": [
              "<IPython.core.display.Image object>"
            ]
          },
          "metadata": {
            "tags": []
          },
          "execution_count": 55
        }
      ]
    },
    {
      "cell_type": "code",
      "metadata": {
        "colab": {
          "base_uri": "https://localhost:8080/",
          "height": 204
        },
        "id": "AeDtKkn6FP6F",
        "outputId": "7fed2fc3-6717-4058-fff6-7a4330c786e5"
      },
      "source": [
        "def cal_SOi(so2):\n",
        "    si=0\n",
        "    if (so2<=40):\n",
        "     si= so2*(50/40)\n",
        "    elif (so2>40 and so2<=80):\n",
        "     si= 50+(so2-40)*(50/40)\n",
        "    elif (so2>80 and so2<=380):\n",
        "     si= 100+(so2-80)*(100/300)\n",
        "    elif (so2>380 and so2<=800):\n",
        "     si= 200+(so2-380)*(100/420)\n",
        "    elif (so2>800 and so2<=1600):\n",
        "     si= 300+(so2-800)*(100/800)\n",
        "    elif (so2>1600):\n",
        "     si= 400+(so2-1600)*(100/800)\n",
        "    return si\n",
        "data['SOi']=data['so2'].apply(cal_SOi)\n",
        "df= data[['so2','SOi']]\n",
        "df.head()"
      ],
      "execution_count": 63,
      "outputs": [
        {
          "output_type": "execute_result",
          "data": {
            "text/html": [
              "<div>\n",
              "<style scoped>\n",
              "    .dataframe tbody tr th:only-of-type {\n",
              "        vertical-align: middle;\n",
              "    }\n",
              "\n",
              "    .dataframe tbody tr th {\n",
              "        vertical-align: top;\n",
              "    }\n",
              "\n",
              "    .dataframe thead th {\n",
              "        text-align: right;\n",
              "    }\n",
              "</style>\n",
              "<table border=\"1\" class=\"dataframe\">\n",
              "  <thead>\n",
              "    <tr style=\"text-align: right;\">\n",
              "      <th></th>\n",
              "      <th>so2</th>\n",
              "      <th>SOi</th>\n",
              "    </tr>\n",
              "  </thead>\n",
              "  <tbody>\n",
              "    <tr>\n",
              "      <th>0</th>\n",
              "      <td>4.8</td>\n",
              "      <td>6.000</td>\n",
              "    </tr>\n",
              "    <tr>\n",
              "      <th>1</th>\n",
              "      <td>3.1</td>\n",
              "      <td>3.875</td>\n",
              "    </tr>\n",
              "    <tr>\n",
              "      <th>2</th>\n",
              "      <td>6.2</td>\n",
              "      <td>7.750</td>\n",
              "    </tr>\n",
              "    <tr>\n",
              "      <th>3</th>\n",
              "      <td>6.3</td>\n",
              "      <td>7.875</td>\n",
              "    </tr>\n",
              "    <tr>\n",
              "      <th>4</th>\n",
              "      <td>4.7</td>\n",
              "      <td>5.875</td>\n",
              "    </tr>\n",
              "  </tbody>\n",
              "</table>\n",
              "</div>"
            ],
            "text/plain": [
              "   so2    SOi\n",
              "0  4.8  6.000\n",
              "1  3.1  3.875\n",
              "2  6.2  7.750\n",
              "3  6.3  7.875\n",
              "4  4.7  5.875"
            ]
          },
          "metadata": {
            "tags": []
          },
          "execution_count": 63
        }
      ]
    },
    {
      "cell_type": "markdown",
      "metadata": {
        "id": "oTYCiK6QFP6F"
      },
      "source": [
        "### CALCULATE AIR QUALITY INDEX FOR no2 BASED ON FORMULA"
      ]
    },
    {
      "cell_type": "code",
      "metadata": {
        "colab": {
          "base_uri": "https://localhost:8080/",
          "height": 204
        },
        "id": "w1OOnw4rFP6G",
        "outputId": "9f31e827-49e5-4f1f-908d-3ddff6e0e46a"
      },
      "source": [
        "def cal_Noi(no2):\n",
        "    ni=0\n",
        "    if(no2<=40):\n",
        "     ni= no2*50/40\n",
        "    elif(no2>40 and no2<=80):\n",
        "     ni= 50+(no2-40)*(50/40)\n",
        "    elif(no2>80 and no2<=180):\n",
        "     ni= 100+(no2-80)*(100/100)\n",
        "    elif(no2>180 and no2<=280):\n",
        "     ni= 200+(no2-180)*(100/100)\n",
        "    elif(no2>280 and no2<=400):\n",
        "     ni= 300+(no2-280)*(100/120)\n",
        "    else:\n",
        "     ni= 400+(no2-400)*(100/120)\n",
        "    return ni\n",
        "data['Noi']=data['no2'].apply(cal_Noi)\n",
        "df= data[['no2','Noi']]\n",
        "df.head()"
      ],
      "execution_count": 64,
      "outputs": [
        {
          "output_type": "execute_result",
          "data": {
            "text/html": [
              "<div>\n",
              "<style scoped>\n",
              "    .dataframe tbody tr th:only-of-type {\n",
              "        vertical-align: middle;\n",
              "    }\n",
              "\n",
              "    .dataframe tbody tr th {\n",
              "        vertical-align: top;\n",
              "    }\n",
              "\n",
              "    .dataframe thead th {\n",
              "        text-align: right;\n",
              "    }\n",
              "</style>\n",
              "<table border=\"1\" class=\"dataframe\">\n",
              "  <thead>\n",
              "    <tr style=\"text-align: right;\">\n",
              "      <th></th>\n",
              "      <th>no2</th>\n",
              "      <th>Noi</th>\n",
              "    </tr>\n",
              "  </thead>\n",
              "  <tbody>\n",
              "    <tr>\n",
              "      <th>0</th>\n",
              "      <td>17.4</td>\n",
              "      <td>21.750</td>\n",
              "    </tr>\n",
              "    <tr>\n",
              "      <th>1</th>\n",
              "      <td>7.0</td>\n",
              "      <td>8.750</td>\n",
              "    </tr>\n",
              "    <tr>\n",
              "      <th>2</th>\n",
              "      <td>28.5</td>\n",
              "      <td>35.625</td>\n",
              "    </tr>\n",
              "    <tr>\n",
              "      <th>3</th>\n",
              "      <td>14.7</td>\n",
              "      <td>18.375</td>\n",
              "    </tr>\n",
              "    <tr>\n",
              "      <th>4</th>\n",
              "      <td>7.5</td>\n",
              "      <td>9.375</td>\n",
              "    </tr>\n",
              "  </tbody>\n",
              "</table>\n",
              "</div>"
            ],
            "text/plain": [
              "    no2     Noi\n",
              "0  17.4  21.750\n",
              "1   7.0   8.750\n",
              "2  28.5  35.625\n",
              "3  14.7  18.375\n",
              "4   7.5   9.375"
            ]
          },
          "metadata": {
            "tags": []
          },
          "execution_count": 64
        }
      ]
    },
    {
      "cell_type": "markdown",
      "metadata": {
        "id": "87jG7akYFP6G"
      },
      "source": [
        "### CALCULATE AIR QUALITY INDEX FOR rspm BASED ON FORMULA"
      ]
    },
    {
      "cell_type": "code",
      "metadata": {
        "colab": {
          "base_uri": "https://localhost:8080/",
          "height": 204
        },
        "id": "tGVaX7hVFP6I",
        "outputId": "256821a0-126a-4b34-817e-fcbc6bff0343"
      },
      "source": [
        "\n",
        "def cal_RSPMi(rspm):\n",
        "    rpi=0\n",
        "    if(rspm<=100):\n",
        "     rpi = rspm\n",
        "    elif(rspm>=101 and rspm<=150):\n",
        "     rpi= 101+(rspm-101)*((200-101)/(150-101))\n",
        "    elif(rspm>=151 and rspm<=350):\n",
        "     ni= 201+(rspm-151)*((300-201)/(350-151))\n",
        "    elif(rspm>=351 and rspm<=420):\n",
        "     ni= 301+(rspm-351)*((400-301)/(420-351))\n",
        "    elif(rspm>420):\n",
        "     ni= 401+(rspm-420)*((500-401)/(420-351))\n",
        "    return rpi\n",
        "data['RSPMi']=data['rspm'].apply(cal_RSPMi)\n",
        "df= data[['rspm','RSPMi']]\n",
        "df.head()"
      ],
      "execution_count": 58,
      "outputs": [
        {
          "output_type": "execute_result",
          "data": {
            "text/html": [
              "<div>\n",
              "<style scoped>\n",
              "    .dataframe tbody tr th:only-of-type {\n",
              "        vertical-align: middle;\n",
              "    }\n",
              "\n",
              "    .dataframe tbody tr th {\n",
              "        vertical-align: top;\n",
              "    }\n",
              "\n",
              "    .dataframe thead th {\n",
              "        text-align: right;\n",
              "    }\n",
              "</style>\n",
              "<table border=\"1\" class=\"dataframe\">\n",
              "  <thead>\n",
              "    <tr style=\"text-align: right;\">\n",
              "      <th></th>\n",
              "      <th>rspm</th>\n",
              "      <th>RSPMi</th>\n",
              "    </tr>\n",
              "  </thead>\n",
              "  <tbody>\n",
              "    <tr>\n",
              "      <th>0</th>\n",
              "      <td>78.182824</td>\n",
              "      <td>78.182824</td>\n",
              "    </tr>\n",
              "    <tr>\n",
              "      <th>1</th>\n",
              "      <td>78.182824</td>\n",
              "      <td>78.182824</td>\n",
              "    </tr>\n",
              "    <tr>\n",
              "      <th>2</th>\n",
              "      <td>78.182824</td>\n",
              "      <td>78.182824</td>\n",
              "    </tr>\n",
              "    <tr>\n",
              "      <th>3</th>\n",
              "      <td>78.182824</td>\n",
              "      <td>78.182824</td>\n",
              "    </tr>\n",
              "    <tr>\n",
              "      <th>4</th>\n",
              "      <td>78.182824</td>\n",
              "      <td>78.182824</td>\n",
              "    </tr>\n",
              "  </tbody>\n",
              "</table>\n",
              "</div>"
            ],
            "text/plain": [
              "        rspm      RSPMi\n",
              "0  78.182824  78.182824\n",
              "1  78.182824  78.182824\n",
              "2  78.182824  78.182824\n",
              "3  78.182824  78.182824\n",
              "4  78.182824  78.182824"
            ]
          },
          "metadata": {
            "tags": []
          },
          "execution_count": 58
        }
      ]
    },
    {
      "cell_type": "code",
      "metadata": {
        "colab": {
          "base_uri": "https://localhost:8080/",
          "height": 204
        },
        "id": "aFqbCyODFP6K",
        "outputId": "414d7012-a124-4a9c-f1ff-cfdfebdda8c3"
      },
      "source": [
        "df.tail()"
      ],
      "execution_count": 59,
      "outputs": [
        {
          "output_type": "execute_result",
          "data": {
            "text/html": [
              "<div>\n",
              "<style scoped>\n",
              "    .dataframe tbody tr th:only-of-type {\n",
              "        vertical-align: middle;\n",
              "    }\n",
              "\n",
              "    .dataframe tbody tr th {\n",
              "        vertical-align: top;\n",
              "    }\n",
              "\n",
              "    .dataframe thead th {\n",
              "        text-align: right;\n",
              "    }\n",
              "</style>\n",
              "<table border=\"1\" class=\"dataframe\">\n",
              "  <thead>\n",
              "    <tr style=\"text-align: right;\">\n",
              "      <th></th>\n",
              "      <th>rspm</th>\n",
              "      <th>RSPMi</th>\n",
              "    </tr>\n",
              "  </thead>\n",
              "  <tbody>\n",
              "    <tr>\n",
              "      <th>435737</th>\n",
              "      <td>143.0</td>\n",
              "      <td>185.857143</td>\n",
              "    </tr>\n",
              "    <tr>\n",
              "      <th>435738</th>\n",
              "      <td>171.0</td>\n",
              "      <td>0.000000</td>\n",
              "    </tr>\n",
              "    <tr>\n",
              "      <th>435739</th>\n",
              "      <td>NaN</td>\n",
              "      <td>0.000000</td>\n",
              "    </tr>\n",
              "    <tr>\n",
              "      <th>435740</th>\n",
              "      <td>NaN</td>\n",
              "      <td>0.000000</td>\n",
              "    </tr>\n",
              "    <tr>\n",
              "      <th>435741</th>\n",
              "      <td>NaN</td>\n",
              "      <td>0.000000</td>\n",
              "    </tr>\n",
              "  </tbody>\n",
              "</table>\n",
              "</div>"
            ],
            "text/plain": [
              "         rspm       RSPMi\n",
              "435737  143.0  185.857143\n",
              "435738  171.0    0.000000\n",
              "435739    NaN    0.000000\n",
              "435740    NaN    0.000000\n",
              "435741    NaN    0.000000"
            ]
          },
          "metadata": {
            "tags": []
          },
          "execution_count": 59
        }
      ]
    },
    {
      "cell_type": "markdown",
      "metadata": {
        "id": "_xcyNx6LFP6L"
      },
      "source": [
        "### CALCULATE AIR QUALITY INDEX FOR Spm BASED ON FORMULA"
      ]
    },
    {
      "cell_type": "code",
      "metadata": {
        "colab": {
          "base_uri": "https://localhost:8080/",
          "height": 204
        },
        "id": "JAgDR-0eFP6L",
        "outputId": "45594f76-7f46-43a0-cc8f-bedd96742eac"
      },
      "source": [
        "def cal_SPMi(spm):\n",
        "    spi=0\n",
        "    if(spm<=50):\n",
        "     spi=spm*50/50\n",
        "    elif(spm>50 and spm<=100):\n",
        "     spi=50+(spm-50)*(50/50)\n",
        "    elif(spm>100 and spm<=250):\n",
        "     spi= 100+(spm-100)*(100/150)\n",
        "    elif(spm>250 and spm<=350):\n",
        "     spi=200+(spm-250)*(100/100)\n",
        "    elif(spm>350 and spm<=430):\n",
        "     spi=300+(spm-350)*(100/80)\n",
        "    else:\n",
        "     spi=400+(spm-430)*(100/430)\n",
        "    return spi\n",
        "   \n",
        "data['SPMi']=data['spm'].apply(cal_SPMi)\n",
        "df= data[['spm','SPMi']]\n",
        "df.head()"
      ],
      "execution_count": 65,
      "outputs": [
        {
          "output_type": "execute_result",
          "data": {
            "text/html": [
              "<div>\n",
              "<style scoped>\n",
              "    .dataframe tbody tr th:only-of-type {\n",
              "        vertical-align: middle;\n",
              "    }\n",
              "\n",
              "    .dataframe tbody tr th {\n",
              "        vertical-align: top;\n",
              "    }\n",
              "\n",
              "    .dataframe thead th {\n",
              "        text-align: right;\n",
              "    }\n",
              "</style>\n",
              "<table border=\"1\" class=\"dataframe\">\n",
              "  <thead>\n",
              "    <tr style=\"text-align: right;\">\n",
              "      <th></th>\n",
              "      <th>spm</th>\n",
              "      <th>SPMi</th>\n",
              "    </tr>\n",
              "  </thead>\n",
              "  <tbody>\n",
              "    <tr>\n",
              "      <th>0</th>\n",
              "      <td>200.260378</td>\n",
              "      <td>166.840252</td>\n",
              "    </tr>\n",
              "    <tr>\n",
              "      <th>1</th>\n",
              "      <td>200.260378</td>\n",
              "      <td>166.840252</td>\n",
              "    </tr>\n",
              "    <tr>\n",
              "      <th>2</th>\n",
              "      <td>200.260378</td>\n",
              "      <td>166.840252</td>\n",
              "    </tr>\n",
              "    <tr>\n",
              "      <th>3</th>\n",
              "      <td>200.260378</td>\n",
              "      <td>166.840252</td>\n",
              "    </tr>\n",
              "    <tr>\n",
              "      <th>4</th>\n",
              "      <td>200.260378</td>\n",
              "      <td>166.840252</td>\n",
              "    </tr>\n",
              "  </tbody>\n",
              "</table>\n",
              "</div>"
            ],
            "text/plain": [
              "          spm        SPMi\n",
              "0  200.260378  166.840252\n",
              "1  200.260378  166.840252\n",
              "2  200.260378  166.840252\n",
              "3  200.260378  166.840252\n",
              "4  200.260378  166.840252"
            ]
          },
          "metadata": {
            "tags": []
          },
          "execution_count": 65
        }
      ]
    },
    {
      "cell_type": "markdown",
      "metadata": {
        "id": "Ht_FqjxbFP6M"
      },
      "source": [
        "### CALCULATE AIR QUALITY INDEX FOR pm2_5 BASED ON FORMULA"
      ]
    },
    {
      "cell_type": "code",
      "metadata": {
        "colab": {
          "base_uri": "https://localhost:8080/",
          "height": 204
        },
        "id": "ilAZ_vOqFP6M",
        "outputId": "833069c5-4352-4291-f861-4a897d5b9aaa"
      },
      "source": [
        "def cal_pmi(pm2_5):\n",
        "    pmi=0\n",
        "    if(pm2_5<=50):\n",
        "     pmi=pm2_5*(50/50)\n",
        "    elif(pm2_5>50 and pm2_5<=100):\n",
        "     pmi=50+(pm2_5-50)*(50/50)\n",
        "    elif(pm2_5>100 and pm2_5<=250):\n",
        "     pmi= 100+(pm2_5-100)*(100/150)\n",
        "    elif(pm2_5>250 and pm2_5<=350):\n",
        "     pmi=200+(pm2_5-250)*(100/100)\n",
        "    elif(pm2_5>350 and pm2_5<=450):\n",
        "     pmi=300+(pm2_5-350)*(100/100)\n",
        "    else:\n",
        "     pmi=400+(pm2_5-430)*(100/80)\n",
        "    return pmi\n",
        "data['PMi']=data['pm2_5'].apply(cal_pmi)\n",
        "df= data[['pm2_5','PMi']]\n",
        "df.head()"
      ],
      "execution_count": 70,
      "outputs": [
        {
          "output_type": "execute_result",
          "data": {
            "text/html": [
              "<div>\n",
              "<style scoped>\n",
              "    .dataframe tbody tr th:only-of-type {\n",
              "        vertical-align: middle;\n",
              "    }\n",
              "\n",
              "    .dataframe tbody tr th {\n",
              "        vertical-align: top;\n",
              "    }\n",
              "\n",
              "    .dataframe thead th {\n",
              "        text-align: right;\n",
              "    }\n",
              "</style>\n",
              "<table border=\"1\" class=\"dataframe\">\n",
              "  <thead>\n",
              "    <tr style=\"text-align: right;\">\n",
              "      <th></th>\n",
              "      <th>pm2_5</th>\n",
              "      <th>PMi</th>\n",
              "    </tr>\n",
              "  </thead>\n",
              "  <tbody>\n",
              "    <tr>\n",
              "      <th>0</th>\n",
              "      <td>0.0</td>\n",
              "      <td>0.0</td>\n",
              "    </tr>\n",
              "    <tr>\n",
              "      <th>1</th>\n",
              "      <td>0.0</td>\n",
              "      <td>0.0</td>\n",
              "    </tr>\n",
              "    <tr>\n",
              "      <th>2</th>\n",
              "      <td>0.0</td>\n",
              "      <td>0.0</td>\n",
              "    </tr>\n",
              "    <tr>\n",
              "      <th>3</th>\n",
              "      <td>0.0</td>\n",
              "      <td>0.0</td>\n",
              "    </tr>\n",
              "    <tr>\n",
              "      <th>4</th>\n",
              "      <td>0.0</td>\n",
              "      <td>0.0</td>\n",
              "    </tr>\n",
              "  </tbody>\n",
              "</table>\n",
              "</div>"
            ],
            "text/plain": [
              "   pm2_5  PMi\n",
              "0    0.0  0.0\n",
              "1    0.0  0.0\n",
              "2    0.0  0.0\n",
              "3    0.0  0.0\n",
              "4    0.0  0.0"
            ]
          },
          "metadata": {
            "tags": []
          },
          "execution_count": 70
        }
      ]
    },
    {
      "cell_type": "code",
      "metadata": {
        "colab": {
          "base_uri": "https://localhost:8080/"
        },
        "id": "ao7aRXTaFP6N",
        "outputId": "0cfb9a34-a6da-4b64-a73c-d7b93aede062"
      },
      "source": [
        "\n",
        "type(data['PMi'])"
      ],
      "execution_count": 71,
      "outputs": [
        {
          "output_type": "execute_result",
          "data": {
            "text/plain": [
              "pandas.core.series.Series"
            ]
          },
          "metadata": {
            "tags": []
          },
          "execution_count": 71
        }
      ]
    },
    {
      "cell_type": "markdown",
      "metadata": {
        "id": "pXMqxPUYFP6N"
      },
      "source": [
        "### Based on the measured ambient concentrations, corresponding standards and likely health impact, a sub-index is calculated for each of these pollutants. The worst sub-index reflects overall AQI.If multiple pollutants are measured at a monitoring site, then the largest or \"dominant\" AQI value is reported for the location"
      ]
    },
    {
      "cell_type": "code",
      "metadata": {
        "colab": {
          "base_uri": "https://localhost:8080/",
          "height": 204
        },
        "id": "-BsZ_bCRFP6O",
        "outputId": "bc1d6319-335f-47bd-ec8e-71870ce11e8c"
      },
      "source": [
        "def cal_aqi(si,ni,rspmi,spmi):\n",
        "    aqi=0\n",
        "    if(si>ni and si>rspmi and si>spmi):\n",
        "     aqi=si\n",
        "    if(ni>si and ni>rspmi and ni>spmi ):\n",
        "     aqi=ni\n",
        "    if(rspmi>si and rspmi>ni and rspmi>spmi ):\n",
        "     aqi=rspmi\n",
        "    if(spmi>si and spmi>ni and spmi>rspmi):\n",
        "     aqi=spmi\n",
        "    return aqi\n",
        "\n",
        "data['AQI']=data.apply(lambda x:cal_aqi(x['SOi'],x['Noi'],x['RSPMi'],x['SPMi']),axis=1)\n",
        "df= data[['state','SOi','Noi','RSPMi','SPMi','AQI']]\n",
        "df.head()"
      ],
      "execution_count": 68,
      "outputs": [
        {
          "output_type": "execute_result",
          "data": {
            "text/html": [
              "<div>\n",
              "<style scoped>\n",
              "    .dataframe tbody tr th:only-of-type {\n",
              "        vertical-align: middle;\n",
              "    }\n",
              "\n",
              "    .dataframe tbody tr th {\n",
              "        vertical-align: top;\n",
              "    }\n",
              "\n",
              "    .dataframe thead th {\n",
              "        text-align: right;\n",
              "    }\n",
              "</style>\n",
              "<table border=\"1\" class=\"dataframe\">\n",
              "  <thead>\n",
              "    <tr style=\"text-align: right;\">\n",
              "      <th></th>\n",
              "      <th>state</th>\n",
              "      <th>SOi</th>\n",
              "      <th>Noi</th>\n",
              "      <th>RSPMi</th>\n",
              "      <th>SPMi</th>\n",
              "      <th>AQI</th>\n",
              "    </tr>\n",
              "  </thead>\n",
              "  <tbody>\n",
              "    <tr>\n",
              "      <th>0</th>\n",
              "      <td>Andhra Pradesh</td>\n",
              "      <td>6.000</td>\n",
              "      <td>21.750</td>\n",
              "      <td>78.182824</td>\n",
              "      <td>166.840252</td>\n",
              "      <td>166.840252</td>\n",
              "    </tr>\n",
              "    <tr>\n",
              "      <th>1</th>\n",
              "      <td>Andhra Pradesh</td>\n",
              "      <td>3.875</td>\n",
              "      <td>8.750</td>\n",
              "      <td>78.182824</td>\n",
              "      <td>166.840252</td>\n",
              "      <td>166.840252</td>\n",
              "    </tr>\n",
              "    <tr>\n",
              "      <th>2</th>\n",
              "      <td>Andhra Pradesh</td>\n",
              "      <td>7.750</td>\n",
              "      <td>35.625</td>\n",
              "      <td>78.182824</td>\n",
              "      <td>166.840252</td>\n",
              "      <td>166.840252</td>\n",
              "    </tr>\n",
              "    <tr>\n",
              "      <th>3</th>\n",
              "      <td>Andhra Pradesh</td>\n",
              "      <td>7.875</td>\n",
              "      <td>18.375</td>\n",
              "      <td>78.182824</td>\n",
              "      <td>166.840252</td>\n",
              "      <td>166.840252</td>\n",
              "    </tr>\n",
              "    <tr>\n",
              "      <th>4</th>\n",
              "      <td>Andhra Pradesh</td>\n",
              "      <td>5.875</td>\n",
              "      <td>9.375</td>\n",
              "      <td>78.182824</td>\n",
              "      <td>166.840252</td>\n",
              "      <td>166.840252</td>\n",
              "    </tr>\n",
              "  </tbody>\n",
              "</table>\n",
              "</div>"
            ],
            "text/plain": [
              "            state    SOi     Noi      RSPMi        SPMi         AQI\n",
              "0  Andhra Pradesh  6.000  21.750  78.182824  166.840252  166.840252\n",
              "1  Andhra Pradesh  3.875   8.750  78.182824  166.840252  166.840252\n",
              "2  Andhra Pradesh  7.750  35.625  78.182824  166.840252  166.840252\n",
              "3  Andhra Pradesh  7.875  18.375  78.182824  166.840252  166.840252\n",
              "4  Andhra Pradesh  5.875   9.375  78.182824  166.840252  166.840252"
            ]
          },
          "metadata": {
            "tags": []
          },
          "execution_count": 68
        }
      ]
    },
    {
      "cell_type": "markdown",
      "metadata": {
        "id": "LNiL0BMrFP6O"
      },
      "source": [
        "### Graph Overview:- Visualization of AQI across india (Year-wise)\n"
      ]
    },
    {
      "cell_type": "code",
      "metadata": {
        "colab": {
          "base_uri": "https://localhost:8080/",
          "height": 0
        },
        "id": "oancXDaSFP6P",
        "outputId": "ef12f0f2-9f29-4eac-aa70-3a1cd66937eb"
      },
      "source": [
        "data.fillna(0.0,inplace=True)\n",
        "states=data.groupby(['state','location'],as_index=False).mean()\n",
        "state=states.groupby(['state'],as_index=False).mean()\n",
        "state"
      ],
      "execution_count": 69,
      "outputs": [
        {
          "output_type": "execute_result",
          "data": {
            "text/html": [
              "<div>\n",
              "<style scoped>\n",
              "    .dataframe tbody tr th:only-of-type {\n",
              "        vertical-align: middle;\n",
              "    }\n",
              "\n",
              "    .dataframe tbody tr th {\n",
              "        vertical-align: top;\n",
              "    }\n",
              "\n",
              "    .dataframe thead th {\n",
              "        text-align: right;\n",
              "    }\n",
              "</style>\n",
              "<table border=\"1\" class=\"dataframe\">\n",
              "  <thead>\n",
              "    <tr style=\"text-align: right;\">\n",
              "      <th></th>\n",
              "      <th>state</th>\n",
              "      <th>so2</th>\n",
              "      <th>no2</th>\n",
              "      <th>rspm</th>\n",
              "      <th>spm</th>\n",
              "      <th>pm2_5</th>\n",
              "      <th>SOi</th>\n",
              "      <th>Noi</th>\n",
              "      <th>RSPMi</th>\n",
              "      <th>SPMi</th>\n",
              "      <th>PMi</th>\n",
              "      <th>AQI</th>\n",
              "    </tr>\n",
              "  </thead>\n",
              "  <tbody>\n",
              "    <tr>\n",
              "      <th>0</th>\n",
              "      <td>Andhra Pradesh</td>\n",
              "      <td>7.005150</td>\n",
              "      <td>17.705235</td>\n",
              "      <td>73.718197</td>\n",
              "      <td>197.085630</td>\n",
              "      <td>0.000000</td>\n",
              "      <td>8.740983</td>\n",
              "      <td>22.091476</td>\n",
              "      <td>68.994411</td>\n",
              "      <td>165.285154</td>\n",
              "      <td>0.000000</td>\n",
              "      <td>165.753512</td>\n",
              "    </tr>\n",
              "    <tr>\n",
              "      <th>1</th>\n",
              "      <td>Arunachal Pradesh</td>\n",
              "      <td>3.179104</td>\n",
              "      <td>5.469697</td>\n",
              "      <td>76.629213</td>\n",
              "      <td>0.000000</td>\n",
              "      <td>0.000000</td>\n",
              "      <td>3.973881</td>\n",
              "      <td>6.837121</td>\n",
              "      <td>74.899282</td>\n",
              "      <td>0.000000</td>\n",
              "      <td>0.000000</td>\n",
              "      <td>0.000000</td>\n",
              "    </tr>\n",
              "    <tr>\n",
              "      <th>2</th>\n",
              "      <td>Assam</td>\n",
              "      <td>6.297072</td>\n",
              "      <td>14.122107</td>\n",
              "      <td>79.860142</td>\n",
              "      <td>141.421396</td>\n",
              "      <td>0.000000</td>\n",
              "      <td>7.871341</td>\n",
              "      <td>17.652233</td>\n",
              "      <td>65.249856</td>\n",
              "      <td>126.050825</td>\n",
              "      <td>0.000000</td>\n",
              "      <td>128.793002</td>\n",
              "    </tr>\n",
              "    <tr>\n",
              "      <th>3</th>\n",
              "      <td>Bihar</td>\n",
              "      <td>33.321814</td>\n",
              "      <td>42.324845</td>\n",
              "      <td>123.705176</td>\n",
              "      <td>281.948937</td>\n",
              "      <td>0.000000</td>\n",
              "      <td>40.939075</td>\n",
              "      <td>52.833105</td>\n",
              "      <td>135.910884</td>\n",
              "      <td>233.301398</td>\n",
              "      <td>0.000000</td>\n",
              "      <td>238.529738</td>\n",
              "    </tr>\n",
              "    <tr>\n",
              "      <th>4</th>\n",
              "      <td>Chandigarh</td>\n",
              "      <td>2.676986</td>\n",
              "      <td>18.619404</td>\n",
              "      <td>96.587079</td>\n",
              "      <td>206.056150</td>\n",
              "      <td>0.000000</td>\n",
              "      <td>3.346232</td>\n",
              "      <td>23.271826</td>\n",
              "      <td>78.578839</td>\n",
              "      <td>174.128162</td>\n",
              "      <td>0.000000</td>\n",
              "      <td>174.508849</td>\n",
              "    </tr>\n",
              "    <tr>\n",
              "      <th>5</th>\n",
              "      <td>Chhattisgarh</td>\n",
              "      <td>11.964182</td>\n",
              "      <td>25.336867</td>\n",
              "      <td>127.909085</td>\n",
              "      <td>233.774753</td>\n",
              "      <td>0.000000</td>\n",
              "      <td>14.955227</td>\n",
              "      <td>31.670710</td>\n",
              "      <td>83.921860</td>\n",
              "      <td>192.639060</td>\n",
              "      <td>0.000000</td>\n",
              "      <td>193.247170</td>\n",
              "    </tr>\n",
              "    <tr>\n",
              "      <th>6</th>\n",
              "      <td>Dadra &amp; Nagar Haveli</td>\n",
              "      <td>8.037770</td>\n",
              "      <td>15.451606</td>\n",
              "      <td>76.720537</td>\n",
              "      <td>149.020211</td>\n",
              "      <td>30.511628</td>\n",
              "      <td>10.047213</td>\n",
              "      <td>19.314507</td>\n",
              "      <td>78.294990</td>\n",
              "      <td>132.029920</td>\n",
              "      <td>30.511628</td>\n",
              "      <td>135.720827</td>\n",
              "    </tr>\n",
              "    <tr>\n",
              "      <th>7</th>\n",
              "      <td>Daman &amp; Diu</td>\n",
              "      <td>7.339134</td>\n",
              "      <td>12.615693</td>\n",
              "      <td>73.749431</td>\n",
              "      <td>127.996169</td>\n",
              "      <td>27.886364</td>\n",
              "      <td>9.173918</td>\n",
              "      <td>15.769616</td>\n",
              "      <td>74.875855</td>\n",
              "      <td>114.877290</td>\n",
              "      <td>27.886364</td>\n",
              "      <td>119.828807</td>\n",
              "    </tr>\n",
              "    <tr>\n",
              "      <th>8</th>\n",
              "      <td>Delhi</td>\n",
              "      <td>8.737273</td>\n",
              "      <td>53.489147</td>\n",
              "      <td>196.639771</td>\n",
              "      <td>399.402088</td>\n",
              "      <td>95.113208</td>\n",
              "      <td>10.908845</td>\n",
              "      <td>65.928540</td>\n",
              "      <td>36.515153</td>\n",
              "      <td>332.640733</td>\n",
              "      <td>94.889452</td>\n",
              "      <td>332.674327</td>\n",
              "    </tr>\n",
              "    <tr>\n",
              "      <th>9</th>\n",
              "      <td>Goa</td>\n",
              "      <td>7.424731</td>\n",
              "      <td>11.790294</td>\n",
              "      <td>59.443098</td>\n",
              "      <td>57.524474</td>\n",
              "      <td>18.995716</td>\n",
              "      <td>9.254478</td>\n",
              "      <td>14.737801</td>\n",
              "      <td>55.295277</td>\n",
              "      <td>56.055605</td>\n",
              "      <td>18.984334</td>\n",
              "      <td>71.566025</td>\n",
              "    </tr>\n",
              "    <tr>\n",
              "      <th>10</th>\n",
              "      <td>Gujarat</td>\n",
              "      <td>15.978083</td>\n",
              "      <td>22.540763</td>\n",
              "      <td>94.378742</td>\n",
              "      <td>187.168861</td>\n",
              "      <td>30.999648</td>\n",
              "      <td>19.863773</td>\n",
              "      <td>28.164335</td>\n",
              "      <td>89.997674</td>\n",
              "      <td>158.181425</td>\n",
              "      <td>30.999648</td>\n",
              "      <td>162.040227</td>\n",
              "    </tr>\n",
              "    <tr>\n",
              "      <th>11</th>\n",
              "      <td>Haryana</td>\n",
              "      <td>19.504956</td>\n",
              "      <td>24.764086</td>\n",
              "      <td>150.752739</td>\n",
              "      <td>272.951580</td>\n",
              "      <td>0.000000</td>\n",
              "      <td>24.381195</td>\n",
              "      <td>30.930789</td>\n",
              "      <td>103.516873</td>\n",
              "      <td>229.166472</td>\n",
              "      <td>0.000000</td>\n",
              "      <td>231.240756</td>\n",
              "    </tr>\n",
              "    <tr>\n",
              "      <th>12</th>\n",
              "      <td>Himachal Pradesh</td>\n",
              "      <td>2.540070</td>\n",
              "      <td>13.373903</td>\n",
              "      <td>87.863056</td>\n",
              "      <td>213.153562</td>\n",
              "      <td>0.000000</td>\n",
              "      <td>3.175065</td>\n",
              "      <td>16.689264</td>\n",
              "      <td>68.517421</td>\n",
              "      <td>176.923185</td>\n",
              "      <td>0.000000</td>\n",
              "      <td>177.951674</td>\n",
              "    </tr>\n",
              "    <tr>\n",
              "      <th>13</th>\n",
              "      <td>Jammu &amp; Kashmir</td>\n",
              "      <td>7.180521</td>\n",
              "      <td>12.213181</td>\n",
              "      <td>117.449483</td>\n",
              "      <td>196.221053</td>\n",
              "      <td>0.000000</td>\n",
              "      <td>8.975651</td>\n",
              "      <td>15.266476</td>\n",
              "      <td>110.831968</td>\n",
              "      <td>164.313324</td>\n",
              "      <td>0.000000</td>\n",
              "      <td>167.163309</td>\n",
              "    </tr>\n",
              "    <tr>\n",
              "      <th>14</th>\n",
              "      <td>Jharkhand</td>\n",
              "      <td>23.070444</td>\n",
              "      <td>41.294205</td>\n",
              "      <td>179.093318</td>\n",
              "      <td>276.756967</td>\n",
              "      <td>0.000000</td>\n",
              "      <td>28.826174</td>\n",
              "      <td>51.564619</td>\n",
              "      <td>48.622159</td>\n",
              "      <td>229.271143</td>\n",
              "      <td>0.000000</td>\n",
              "      <td>229.694881</td>\n",
              "    </tr>\n",
              "    <tr>\n",
              "      <th>15</th>\n",
              "      <td>Karnataka</td>\n",
              "      <td>6.641526</td>\n",
              "      <td>15.010879</td>\n",
              "      <td>70.394468</td>\n",
              "      <td>164.878665</td>\n",
              "      <td>0.000000</td>\n",
              "      <td>8.299206</td>\n",
              "      <td>18.763131</td>\n",
              "      <td>61.744284</td>\n",
              "      <td>143.030232</td>\n",
              "      <td>0.000000</td>\n",
              "      <td>144.000083</td>\n",
              "    </tr>\n",
              "    <tr>\n",
              "      <th>16</th>\n",
              "      <td>Kerala</td>\n",
              "      <td>5.198258</td>\n",
              "      <td>14.307579</td>\n",
              "      <td>47.696382</td>\n",
              "      <td>88.831854</td>\n",
              "      <td>0.000000</td>\n",
              "      <td>6.496286</td>\n",
              "      <td>17.876273</td>\n",
              "      <td>47.853211</td>\n",
              "      <td>86.168345</td>\n",
              "      <td>0.000000</td>\n",
              "      <td>88.072796</td>\n",
              "    </tr>\n",
              "    <tr>\n",
              "      <th>17</th>\n",
              "      <td>Lakshadweep</td>\n",
              "      <td>0.000000</td>\n",
              "      <td>0.000000</td>\n",
              "      <td>0.000000</td>\n",
              "      <td>0.000000</td>\n",
              "      <td>0.000000</td>\n",
              "      <td>0.000000</td>\n",
              "      <td>0.000000</td>\n",
              "      <td>0.000000</td>\n",
              "      <td>0.000000</td>\n",
              "      <td>0.000000</td>\n",
              "      <td>0.000000</td>\n",
              "    </tr>\n",
              "    <tr>\n",
              "      <th>18</th>\n",
              "      <td>Madhya Pradesh</td>\n",
              "      <td>11.495521</td>\n",
              "      <td>20.146065</td>\n",
              "      <td>107.646741</td>\n",
              "      <td>208.576352</td>\n",
              "      <td>64.863371</td>\n",
              "      <td>14.333211</td>\n",
              "      <td>25.179960</td>\n",
              "      <td>90.937725</td>\n",
              "      <td>176.686071</td>\n",
              "      <td>64.827797</td>\n",
              "      <td>179.589411</td>\n",
              "    </tr>\n",
              "    <tr>\n",
              "      <th>19</th>\n",
              "      <td>Maharashtra</td>\n",
              "      <td>18.426198</td>\n",
              "      <td>33.566612</td>\n",
              "      <td>103.133167</td>\n",
              "      <td>200.704916</td>\n",
              "      <td>0.000000</td>\n",
              "      <td>22.898864</td>\n",
              "      <td>41.761339</td>\n",
              "      <td>81.910178</td>\n",
              "      <td>168.598076</td>\n",
              "      <td>0.000000</td>\n",
              "      <td>170.142328</td>\n",
              "    </tr>\n",
              "    <tr>\n",
              "      <th>20</th>\n",
              "      <td>Manipur</td>\n",
              "      <td>3.900000</td>\n",
              "      <td>20.173684</td>\n",
              "      <td>69.815789</td>\n",
              "      <td>158.657895</td>\n",
              "      <td>0.000000</td>\n",
              "      <td>4.875000</td>\n",
              "      <td>25.217105</td>\n",
              "      <td>71.426960</td>\n",
              "      <td>139.459914</td>\n",
              "      <td>0.000000</td>\n",
              "      <td>139.459914</td>\n",
              "    </tr>\n",
              "    <tr>\n",
              "      <th>21</th>\n",
              "      <td>Meghalaya</td>\n",
              "      <td>8.616554</td>\n",
              "      <td>10.124137</td>\n",
              "      <td>65.371622</td>\n",
              "      <td>78.002445</td>\n",
              "      <td>0.000000</td>\n",
              "      <td>10.038621</td>\n",
              "      <td>12.655171</td>\n",
              "      <td>55.700447</td>\n",
              "      <td>77.848851</td>\n",
              "      <td>0.000000</td>\n",
              "      <td>86.930116</td>\n",
              "    </tr>\n",
              "    <tr>\n",
              "      <th>22</th>\n",
              "      <td>Mizoram</td>\n",
              "      <td>2.081558</td>\n",
              "      <td>5.574047</td>\n",
              "      <td>42.978988</td>\n",
              "      <td>87.833333</td>\n",
              "      <td>0.000000</td>\n",
              "      <td>2.601948</td>\n",
              "      <td>6.967559</td>\n",
              "      <td>42.904859</td>\n",
              "      <td>87.517688</td>\n",
              "      <td>0.000000</td>\n",
              "      <td>89.003614</td>\n",
              "    </tr>\n",
              "    <tr>\n",
              "      <th>23</th>\n",
              "      <td>Nagaland</td>\n",
              "      <td>2.041775</td>\n",
              "      <td>7.711191</td>\n",
              "      <td>83.025664</td>\n",
              "      <td>132.715670</td>\n",
              "      <td>0.000000</td>\n",
              "      <td>2.552218</td>\n",
              "      <td>9.638989</td>\n",
              "      <td>74.814886</td>\n",
              "      <td>120.482198</td>\n",
              "      <td>0.000000</td>\n",
              "      <td>123.961397</td>\n",
              "    </tr>\n",
              "    <tr>\n",
              "      <th>24</th>\n",
              "      <td>Odisha</td>\n",
              "      <td>4.811712</td>\n",
              "      <td>15.672225</td>\n",
              "      <td>83.307762</td>\n",
              "      <td>163.764462</td>\n",
              "      <td>41.042631</td>\n",
              "      <td>6.014640</td>\n",
              "      <td>19.590123</td>\n",
              "      <td>76.877151</td>\n",
              "      <td>142.766169</td>\n",
              "      <td>40.976946</td>\n",
              "      <td>144.529618</td>\n",
              "    </tr>\n",
              "    <tr>\n",
              "      <th>25</th>\n",
              "      <td>Puducherry</td>\n",
              "      <td>17.397175</td>\n",
              "      <td>19.075083</td>\n",
              "      <td>41.037867</td>\n",
              "      <td>112.597019</td>\n",
              "      <td>0.000000</td>\n",
              "      <td>20.864861</td>\n",
              "      <td>23.726431</td>\n",
              "      <td>40.974686</td>\n",
              "      <td>106.861209</td>\n",
              "      <td>0.000000</td>\n",
              "      <td>107.771206</td>\n",
              "    </tr>\n",
              "    <tr>\n",
              "      <th>26</th>\n",
              "      <td>Punjab</td>\n",
              "      <td>9.589087</td>\n",
              "      <td>22.888457</td>\n",
              "      <td>141.496722</td>\n",
              "      <td>246.204606</td>\n",
              "      <td>0.000000</td>\n",
              "      <td>11.985002</td>\n",
              "      <td>28.609597</td>\n",
              "      <td>58.558682</td>\n",
              "      <td>199.189684</td>\n",
              "      <td>0.000000</td>\n",
              "      <td>199.433126</td>\n",
              "    </tr>\n",
              "    <tr>\n",
              "      <th>27</th>\n",
              "      <td>Rajasthan</td>\n",
              "      <td>9.367431</td>\n",
              "      <td>32.792184</td>\n",
              "      <td>141.378551</td>\n",
              "      <td>288.499572</td>\n",
              "      <td>0.000000</td>\n",
              "      <td>11.705486</td>\n",
              "      <td>40.918905</td>\n",
              "      <td>93.470809</td>\n",
              "      <td>240.686431</td>\n",
              "      <td>0.000000</td>\n",
              "      <td>248.316557</td>\n",
              "    </tr>\n",
              "    <tr>\n",
              "      <th>28</th>\n",
              "      <td>Sikkim</td>\n",
              "      <td>19.800000</td>\n",
              "      <td>26.800000</td>\n",
              "      <td>32.000000</td>\n",
              "      <td>75.000000</td>\n",
              "      <td>0.000000</td>\n",
              "      <td>24.750000</td>\n",
              "      <td>33.500000</td>\n",
              "      <td>32.000000</td>\n",
              "      <td>75.000000</td>\n",
              "      <td>0.000000</td>\n",
              "      <td>75.000000</td>\n",
              "    </tr>\n",
              "    <tr>\n",
              "      <th>29</th>\n",
              "      <td>Tamil Nadu</td>\n",
              "      <td>11.242240</td>\n",
              "      <td>19.982708</td>\n",
              "      <td>66.394215</td>\n",
              "      <td>111.154120</td>\n",
              "      <td>29.507276</td>\n",
              "      <td>14.024718</td>\n",
              "      <td>24.965873</td>\n",
              "      <td>63.534927</td>\n",
              "      <td>103.069199</td>\n",
              "      <td>29.507089</td>\n",
              "      <td>109.371645</td>\n",
              "    </tr>\n",
              "    <tr>\n",
              "      <th>30</th>\n",
              "      <td>Telangana</td>\n",
              "      <td>6.147762</td>\n",
              "      <td>20.519019</td>\n",
              "      <td>77.719065</td>\n",
              "      <td>0.000000</td>\n",
              "      <td>43.968927</td>\n",
              "      <td>7.684703</td>\n",
              "      <td>25.627403</td>\n",
              "      <td>72.974914</td>\n",
              "      <td>0.000000</td>\n",
              "      <td>43.960981</td>\n",
              "      <td>0.000000</td>\n",
              "    </tr>\n",
              "    <tr>\n",
              "      <th>31</th>\n",
              "      <td>Tripura</td>\n",
              "      <td>0.000000</td>\n",
              "      <td>0.000000</td>\n",
              "      <td>0.000000</td>\n",
              "      <td>0.000000</td>\n",
              "      <td>0.000000</td>\n",
              "      <td>0.000000</td>\n",
              "      <td>0.000000</td>\n",
              "      <td>0.000000</td>\n",
              "      <td>0.000000</td>\n",
              "      <td>0.000000</td>\n",
              "      <td>0.000000</td>\n",
              "    </tr>\n",
              "    <tr>\n",
              "      <th>32</th>\n",
              "      <td>Uttar Pradesh</td>\n",
              "      <td>16.496844</td>\n",
              "      <td>28.208330</td>\n",
              "      <td>163.058362</td>\n",
              "      <td>375.516972</td>\n",
              "      <td>0.000000</td>\n",
              "      <td>20.399822</td>\n",
              "      <td>35.146475</td>\n",
              "      <td>50.796936</td>\n",
              "      <td>319.991133</td>\n",
              "      <td>0.000000</td>\n",
              "      <td>320.460397</td>\n",
              "    </tr>\n",
              "    <tr>\n",
              "      <th>33</th>\n",
              "      <td>Uttarakhand</td>\n",
              "      <td>24.006332</td>\n",
              "      <td>26.581494</td>\n",
              "      <td>142.622234</td>\n",
              "      <td>306.758923</td>\n",
              "      <td>0.000000</td>\n",
              "      <td>30.007915</td>\n",
              "      <td>33.223941</td>\n",
              "      <td>92.567605</td>\n",
              "      <td>256.857895</td>\n",
              "      <td>0.000000</td>\n",
              "      <td>256.885067</td>\n",
              "    </tr>\n",
              "    <tr>\n",
              "      <th>34</th>\n",
              "      <td>Uttaranchal</td>\n",
              "      <td>24.697736</td>\n",
              "      <td>27.163019</td>\n",
              "      <td>121.694340</td>\n",
              "      <td>283.335714</td>\n",
              "      <td>0.000000</td>\n",
              "      <td>30.872170</td>\n",
              "      <td>33.953774</td>\n",
              "      <td>97.950075</td>\n",
              "      <td>236.474188</td>\n",
              "      <td>0.000000</td>\n",
              "      <td>236.966517</td>\n",
              "    </tr>\n",
              "    <tr>\n",
              "      <th>35</th>\n",
              "      <td>West Bengal</td>\n",
              "      <td>12.683467</td>\n",
              "      <td>49.546056</td>\n",
              "      <td>112.886310</td>\n",
              "      <td>238.465103</td>\n",
              "      <td>64.974701</td>\n",
              "      <td>14.683999</td>\n",
              "      <td>61.340905</td>\n",
              "      <td>70.191219</td>\n",
              "      <td>195.130252</td>\n",
              "      <td>64.964097</td>\n",
              "      <td>196.367548</td>\n",
              "    </tr>\n",
              "    <tr>\n",
              "      <th>36</th>\n",
              "      <td>andaman-and-nicobar-islands</td>\n",
              "      <td>0.000000</td>\n",
              "      <td>0.000000</td>\n",
              "      <td>0.000000</td>\n",
              "      <td>0.000000</td>\n",
              "      <td>0.000000</td>\n",
              "      <td>0.000000</td>\n",
              "      <td>0.000000</td>\n",
              "      <td>0.000000</td>\n",
              "      <td>0.000000</td>\n",
              "      <td>0.000000</td>\n",
              "      <td>0.000000</td>\n",
              "    </tr>\n",
              "  </tbody>\n",
              "</table>\n",
              "</div>"
            ],
            "text/plain": [
              "                          state        so2  ...        PMi         AQI\n",
              "0                Andhra Pradesh   7.005150  ...   0.000000  165.753512\n",
              "1             Arunachal Pradesh   3.179104  ...   0.000000    0.000000\n",
              "2                         Assam   6.297072  ...   0.000000  128.793002\n",
              "3                         Bihar  33.321814  ...   0.000000  238.529738\n",
              "4                    Chandigarh   2.676986  ...   0.000000  174.508849\n",
              "5                  Chhattisgarh  11.964182  ...   0.000000  193.247170\n",
              "6          Dadra & Nagar Haveli   8.037770  ...  30.511628  135.720827\n",
              "7                   Daman & Diu   7.339134  ...  27.886364  119.828807\n",
              "8                         Delhi   8.737273  ...  94.889452  332.674327\n",
              "9                           Goa   7.424731  ...  18.984334   71.566025\n",
              "10                      Gujarat  15.978083  ...  30.999648  162.040227\n",
              "11                      Haryana  19.504956  ...   0.000000  231.240756\n",
              "12             Himachal Pradesh   2.540070  ...   0.000000  177.951674\n",
              "13              Jammu & Kashmir   7.180521  ...   0.000000  167.163309\n",
              "14                    Jharkhand  23.070444  ...   0.000000  229.694881\n",
              "15                    Karnataka   6.641526  ...   0.000000  144.000083\n",
              "16                       Kerala   5.198258  ...   0.000000   88.072796\n",
              "17                  Lakshadweep   0.000000  ...   0.000000    0.000000\n",
              "18               Madhya Pradesh  11.495521  ...  64.827797  179.589411\n",
              "19                  Maharashtra  18.426198  ...   0.000000  170.142328\n",
              "20                      Manipur   3.900000  ...   0.000000  139.459914\n",
              "21                    Meghalaya   8.616554  ...   0.000000   86.930116\n",
              "22                      Mizoram   2.081558  ...   0.000000   89.003614\n",
              "23                     Nagaland   2.041775  ...   0.000000  123.961397\n",
              "24                       Odisha   4.811712  ...  40.976946  144.529618\n",
              "25                   Puducherry  17.397175  ...   0.000000  107.771206\n",
              "26                       Punjab   9.589087  ...   0.000000  199.433126\n",
              "27                    Rajasthan   9.367431  ...   0.000000  248.316557\n",
              "28                       Sikkim  19.800000  ...   0.000000   75.000000\n",
              "29                   Tamil Nadu  11.242240  ...  29.507089  109.371645\n",
              "30                    Telangana   6.147762  ...  43.960981    0.000000\n",
              "31                      Tripura   0.000000  ...   0.000000    0.000000\n",
              "32                Uttar Pradesh  16.496844  ...   0.000000  320.460397\n",
              "33                  Uttarakhand  24.006332  ...   0.000000  256.885067\n",
              "34                  Uttaranchal  24.697736  ...   0.000000  236.966517\n",
              "35                  West Bengal  12.683467  ...  64.964097  196.367548\n",
              "36  andaman-and-nicobar-islands   0.000000  ...   0.000000    0.000000\n",
              "\n",
              "[37 rows x 12 columns]"
            ]
          },
          "metadata": {
            "tags": []
          },
          "execution_count": 69
        }
      ]
    },
    {
      "cell_type": "markdown",
      "metadata": {
        "id": "78VO-xigFP6P"
      },
      "source": [
        "### AQI RANGE for corresponding AQI valu"
      ]
    },
    {
      "cell_type": "code",
      "metadata": {
        "id": "VvjxxHTsFP6P",
        "outputId": "e190630c-7d19-44da-b3e7-a8eb69516b73"
      },
      "source": [
        "def AQI_Range(x):\n",
        "    if x<=50:\n",
        "        return \"Good\"\n",
        "    elif x>50 and x<=100:\n",
        "        return \"Moderate\"\n",
        "    elif x>100 and x<=200:\n",
        "        return \"Poor\"\n",
        "    elif x>200 and x<=300:\n",
        "        return \"Unhealthy\"\n",
        "    elif x>300 and x<=400:\n",
        "        return \"Very unhealthy\"\n",
        "    elif x>400:\n",
        "        return \"Hazardous\"\n",
        "\n",
        "data['AQI_Range'] = data['AQI'] .apply(AQI_Range)\n",
        "data.head()"
      ],
      "execution_count": null,
      "outputs": [
        {
          "output_type": "execute_result",
          "data": {
            "text/html": [
              "<div>\n",
              "<style scoped>\n",
              "    .dataframe tbody tr th:only-of-type {\n",
              "        vertical-align: middle;\n",
              "    }\n",
              "\n",
              "    .dataframe tbody tr th {\n",
              "        vertical-align: top;\n",
              "    }\n",
              "\n",
              "    .dataframe thead th {\n",
              "        text-align: right;\n",
              "    }\n",
              "</style>\n",
              "<table border=\"1\" class=\"dataframe\">\n",
              "  <thead>\n",
              "    <tr style=\"text-align: right;\">\n",
              "      <th></th>\n",
              "      <th>stn_code</th>\n",
              "      <th>sampling_date</th>\n",
              "      <th>state</th>\n",
              "      <th>location</th>\n",
              "      <th>agency</th>\n",
              "      <th>type</th>\n",
              "      <th>so2</th>\n",
              "      <th>no2</th>\n",
              "      <th>rspm</th>\n",
              "      <th>spm</th>\n",
              "      <th>location_monitoring_station</th>\n",
              "      <th>pm2_5</th>\n",
              "      <th>date</th>\n",
              "      <th>SOi</th>\n",
              "      <th>Noi</th>\n",
              "      <th>RSPMi</th>\n",
              "      <th>SPMi</th>\n",
              "      <th>PMi</th>\n",
              "      <th>AQI</th>\n",
              "      <th>AQI_Range</th>\n",
              "    </tr>\n",
              "  </thead>\n",
              "  <tbody>\n",
              "    <tr>\n",
              "      <th>0</th>\n",
              "      <td>150</td>\n",
              "      <td>February - M021990</td>\n",
              "      <td>Andhra Pradesh</td>\n",
              "      <td>Hyderabad</td>\n",
              "      <td>0</td>\n",
              "      <td>Residential, Rural and other Areas</td>\n",
              "      <td>4.8</td>\n",
              "      <td>17.4</td>\n",
              "      <td>78.182824</td>\n",
              "      <td>200.260378</td>\n",
              "      <td>0</td>\n",
              "      <td>0.0</td>\n",
              "      <td>1990-02-01</td>\n",
              "      <td>6.000</td>\n",
              "      <td>21.750</td>\n",
              "      <td>78.182824</td>\n",
              "      <td>166.840252</td>\n",
              "      <td>0.0</td>\n",
              "      <td>166.840252</td>\n",
              "      <td>Poor</td>\n",
              "    </tr>\n",
              "    <tr>\n",
              "      <th>1</th>\n",
              "      <td>151</td>\n",
              "      <td>February - M021990</td>\n",
              "      <td>Andhra Pradesh</td>\n",
              "      <td>Hyderabad</td>\n",
              "      <td>0</td>\n",
              "      <td>Industrial Area</td>\n",
              "      <td>3.1</td>\n",
              "      <td>7.0</td>\n",
              "      <td>78.182824</td>\n",
              "      <td>200.260378</td>\n",
              "      <td>0</td>\n",
              "      <td>0.0</td>\n",
              "      <td>1990-02-01</td>\n",
              "      <td>3.875</td>\n",
              "      <td>8.750</td>\n",
              "      <td>78.182824</td>\n",
              "      <td>166.840252</td>\n",
              "      <td>0.0</td>\n",
              "      <td>166.840252</td>\n",
              "      <td>Poor</td>\n",
              "    </tr>\n",
              "    <tr>\n",
              "      <th>2</th>\n",
              "      <td>152</td>\n",
              "      <td>February - M021990</td>\n",
              "      <td>Andhra Pradesh</td>\n",
              "      <td>Hyderabad</td>\n",
              "      <td>0</td>\n",
              "      <td>Residential, Rural and other Areas</td>\n",
              "      <td>6.2</td>\n",
              "      <td>28.5</td>\n",
              "      <td>78.182824</td>\n",
              "      <td>200.260378</td>\n",
              "      <td>0</td>\n",
              "      <td>0.0</td>\n",
              "      <td>1990-02-01</td>\n",
              "      <td>7.750</td>\n",
              "      <td>35.625</td>\n",
              "      <td>78.182824</td>\n",
              "      <td>166.840252</td>\n",
              "      <td>0.0</td>\n",
              "      <td>166.840252</td>\n",
              "      <td>Poor</td>\n",
              "    </tr>\n",
              "    <tr>\n",
              "      <th>3</th>\n",
              "      <td>150</td>\n",
              "      <td>March - M031990</td>\n",
              "      <td>Andhra Pradesh</td>\n",
              "      <td>Hyderabad</td>\n",
              "      <td>0</td>\n",
              "      <td>Residential, Rural and other Areas</td>\n",
              "      <td>6.3</td>\n",
              "      <td>14.7</td>\n",
              "      <td>78.182824</td>\n",
              "      <td>200.260378</td>\n",
              "      <td>0</td>\n",
              "      <td>0.0</td>\n",
              "      <td>1990-03-01</td>\n",
              "      <td>7.875</td>\n",
              "      <td>18.375</td>\n",
              "      <td>78.182824</td>\n",
              "      <td>166.840252</td>\n",
              "      <td>0.0</td>\n",
              "      <td>166.840252</td>\n",
              "      <td>Poor</td>\n",
              "    </tr>\n",
              "    <tr>\n",
              "      <th>4</th>\n",
              "      <td>151</td>\n",
              "      <td>March - M031990</td>\n",
              "      <td>Andhra Pradesh</td>\n",
              "      <td>Hyderabad</td>\n",
              "      <td>0</td>\n",
              "      <td>Industrial Area</td>\n",
              "      <td>4.7</td>\n",
              "      <td>7.5</td>\n",
              "      <td>78.182824</td>\n",
              "      <td>200.260378</td>\n",
              "      <td>0</td>\n",
              "      <td>0.0</td>\n",
              "      <td>1990-03-01</td>\n",
              "      <td>5.875</td>\n",
              "      <td>9.375</td>\n",
              "      <td>78.182824</td>\n",
              "      <td>166.840252</td>\n",
              "      <td>0.0</td>\n",
              "      <td>166.840252</td>\n",
              "      <td>Poor</td>\n",
              "    </tr>\n",
              "  </tbody>\n",
              "</table>\n",
              "</div>"
            ],
            "text/plain": [
              "  stn_code       sampling_date           state   location agency  \\\n",
              "0      150  February - M021990  Andhra Pradesh  Hyderabad      0   \n",
              "1      151  February - M021990  Andhra Pradesh  Hyderabad      0   \n",
              "2      152  February - M021990  Andhra Pradesh  Hyderabad      0   \n",
              "3      150     March - M031990  Andhra Pradesh  Hyderabad      0   \n",
              "4      151     March - M031990  Andhra Pradesh  Hyderabad      0   \n",
              "\n",
              "                                 type  so2   no2       rspm         spm  \\\n",
              "0  Residential, Rural and other Areas  4.8  17.4  78.182824  200.260378   \n",
              "1                     Industrial Area  3.1   7.0  78.182824  200.260378   \n",
              "2  Residential, Rural and other Areas  6.2  28.5  78.182824  200.260378   \n",
              "3  Residential, Rural and other Areas  6.3  14.7  78.182824  200.260378   \n",
              "4                     Industrial Area  4.7   7.5  78.182824  200.260378   \n",
              "\n",
              "  location_monitoring_station  pm2_5        date    SOi     Noi      RSPMi  \\\n",
              "0                           0    0.0  1990-02-01  6.000  21.750  78.182824   \n",
              "1                           0    0.0  1990-02-01  3.875   8.750  78.182824   \n",
              "2                           0    0.0  1990-02-01  7.750  35.625  78.182824   \n",
              "3                           0    0.0  1990-03-01  7.875  18.375  78.182824   \n",
              "4                           0    0.0  1990-03-01  5.875   9.375  78.182824   \n",
              "\n",
              "         SPMi  PMi         AQI AQI_Range  \n",
              "0  166.840252  0.0  166.840252      Poor  \n",
              "1  166.840252  0.0  166.840252      Poor  \n",
              "2  166.840252  0.0  166.840252      Poor  \n",
              "3  166.840252  0.0  166.840252      Poor  \n",
              "4  166.840252  0.0  166.840252      Poor  "
            ]
          },
          "metadata": {
            "tags": []
          },
          "execution_count": 40
        }
      ]
    },
    {
      "cell_type": "code",
      "metadata": {
        "id": "6KvGPNlXFP6Q",
        "outputId": "cfaffb99-fa89-44bd-fca6-b206791a4ac0"
      },
      "source": [
        "\n",
        "d=data #saving data in new value\n",
        "d.head()"
      ],
      "execution_count": null,
      "outputs": [
        {
          "output_type": "execute_result",
          "data": {
            "text/html": [
              "<div>\n",
              "<style scoped>\n",
              "    .dataframe tbody tr th:only-of-type {\n",
              "        vertical-align: middle;\n",
              "    }\n",
              "\n",
              "    .dataframe tbody tr th {\n",
              "        vertical-align: top;\n",
              "    }\n",
              "\n",
              "    .dataframe thead th {\n",
              "        text-align: right;\n",
              "    }\n",
              "</style>\n",
              "<table border=\"1\" class=\"dataframe\">\n",
              "  <thead>\n",
              "    <tr style=\"text-align: right;\">\n",
              "      <th></th>\n",
              "      <th>stn_code</th>\n",
              "      <th>sampling_date</th>\n",
              "      <th>state</th>\n",
              "      <th>location</th>\n",
              "      <th>agency</th>\n",
              "      <th>type</th>\n",
              "      <th>so2</th>\n",
              "      <th>no2</th>\n",
              "      <th>rspm</th>\n",
              "      <th>spm</th>\n",
              "      <th>location_monitoring_station</th>\n",
              "      <th>pm2_5</th>\n",
              "      <th>date</th>\n",
              "      <th>SOi</th>\n",
              "      <th>Noi</th>\n",
              "      <th>RSPMi</th>\n",
              "      <th>SPMi</th>\n",
              "      <th>PMi</th>\n",
              "      <th>AQI</th>\n",
              "      <th>AQI_Range</th>\n",
              "    </tr>\n",
              "  </thead>\n",
              "  <tbody>\n",
              "    <tr>\n",
              "      <th>0</th>\n",
              "      <td>150</td>\n",
              "      <td>February - M021990</td>\n",
              "      <td>Andhra Pradesh</td>\n",
              "      <td>Hyderabad</td>\n",
              "      <td>0</td>\n",
              "      <td>Residential, Rural and other Areas</td>\n",
              "      <td>4.8</td>\n",
              "      <td>17.4</td>\n",
              "      <td>78.182824</td>\n",
              "      <td>200.260378</td>\n",
              "      <td>0</td>\n",
              "      <td>0.0</td>\n",
              "      <td>1990-02-01</td>\n",
              "      <td>6.000</td>\n",
              "      <td>21.750</td>\n",
              "      <td>78.182824</td>\n",
              "      <td>166.840252</td>\n",
              "      <td>0.0</td>\n",
              "      <td>166.840252</td>\n",
              "      <td>Poor</td>\n",
              "    </tr>\n",
              "    <tr>\n",
              "      <th>1</th>\n",
              "      <td>151</td>\n",
              "      <td>February - M021990</td>\n",
              "      <td>Andhra Pradesh</td>\n",
              "      <td>Hyderabad</td>\n",
              "      <td>0</td>\n",
              "      <td>Industrial Area</td>\n",
              "      <td>3.1</td>\n",
              "      <td>7.0</td>\n",
              "      <td>78.182824</td>\n",
              "      <td>200.260378</td>\n",
              "      <td>0</td>\n",
              "      <td>0.0</td>\n",
              "      <td>1990-02-01</td>\n",
              "      <td>3.875</td>\n",
              "      <td>8.750</td>\n",
              "      <td>78.182824</td>\n",
              "      <td>166.840252</td>\n",
              "      <td>0.0</td>\n",
              "      <td>166.840252</td>\n",
              "      <td>Poor</td>\n",
              "    </tr>\n",
              "    <tr>\n",
              "      <th>2</th>\n",
              "      <td>152</td>\n",
              "      <td>February - M021990</td>\n",
              "      <td>Andhra Pradesh</td>\n",
              "      <td>Hyderabad</td>\n",
              "      <td>0</td>\n",
              "      <td>Residential, Rural and other Areas</td>\n",
              "      <td>6.2</td>\n",
              "      <td>28.5</td>\n",
              "      <td>78.182824</td>\n",
              "      <td>200.260378</td>\n",
              "      <td>0</td>\n",
              "      <td>0.0</td>\n",
              "      <td>1990-02-01</td>\n",
              "      <td>7.750</td>\n",
              "      <td>35.625</td>\n",
              "      <td>78.182824</td>\n",
              "      <td>166.840252</td>\n",
              "      <td>0.0</td>\n",
              "      <td>166.840252</td>\n",
              "      <td>Poor</td>\n",
              "    </tr>\n",
              "    <tr>\n",
              "      <th>3</th>\n",
              "      <td>150</td>\n",
              "      <td>March - M031990</td>\n",
              "      <td>Andhra Pradesh</td>\n",
              "      <td>Hyderabad</td>\n",
              "      <td>0</td>\n",
              "      <td>Residential, Rural and other Areas</td>\n",
              "      <td>6.3</td>\n",
              "      <td>14.7</td>\n",
              "      <td>78.182824</td>\n",
              "      <td>200.260378</td>\n",
              "      <td>0</td>\n",
              "      <td>0.0</td>\n",
              "      <td>1990-03-01</td>\n",
              "      <td>7.875</td>\n",
              "      <td>18.375</td>\n",
              "      <td>78.182824</td>\n",
              "      <td>166.840252</td>\n",
              "      <td>0.0</td>\n",
              "      <td>166.840252</td>\n",
              "      <td>Poor</td>\n",
              "    </tr>\n",
              "    <tr>\n",
              "      <th>4</th>\n",
              "      <td>151</td>\n",
              "      <td>March - M031990</td>\n",
              "      <td>Andhra Pradesh</td>\n",
              "      <td>Hyderabad</td>\n",
              "      <td>0</td>\n",
              "      <td>Industrial Area</td>\n",
              "      <td>4.7</td>\n",
              "      <td>7.5</td>\n",
              "      <td>78.182824</td>\n",
              "      <td>200.260378</td>\n",
              "      <td>0</td>\n",
              "      <td>0.0</td>\n",
              "      <td>1990-03-01</td>\n",
              "      <td>5.875</td>\n",
              "      <td>9.375</td>\n",
              "      <td>78.182824</td>\n",
              "      <td>166.840252</td>\n",
              "      <td>0.0</td>\n",
              "      <td>166.840252</td>\n",
              "      <td>Poor</td>\n",
              "    </tr>\n",
              "  </tbody>\n",
              "</table>\n",
              "</div>"
            ],
            "text/plain": [
              "  stn_code       sampling_date           state   location agency  \\\n",
              "0      150  February - M021990  Andhra Pradesh  Hyderabad      0   \n",
              "1      151  February - M021990  Andhra Pradesh  Hyderabad      0   \n",
              "2      152  February - M021990  Andhra Pradesh  Hyderabad      0   \n",
              "3      150     March - M031990  Andhra Pradesh  Hyderabad      0   \n",
              "4      151     March - M031990  Andhra Pradesh  Hyderabad      0   \n",
              "\n",
              "                                 type  so2   no2       rspm         spm  \\\n",
              "0  Residential, Rural and other Areas  4.8  17.4  78.182824  200.260378   \n",
              "1                     Industrial Area  3.1   7.0  78.182824  200.260378   \n",
              "2  Residential, Rural and other Areas  6.2  28.5  78.182824  200.260378   \n",
              "3  Residential, Rural and other Areas  6.3  14.7  78.182824  200.260378   \n",
              "4                     Industrial Area  4.7   7.5  78.182824  200.260378   \n",
              "\n",
              "  location_monitoring_station  pm2_5        date    SOi     Noi      RSPMi  \\\n",
              "0                           0    0.0  1990-02-01  6.000  21.750  78.182824   \n",
              "1                           0    0.0  1990-02-01  3.875   8.750  78.182824   \n",
              "2                           0    0.0  1990-02-01  7.750  35.625  78.182824   \n",
              "3                           0    0.0  1990-03-01  7.875  18.375  78.182824   \n",
              "4                           0    0.0  1990-03-01  5.875   9.375  78.182824   \n",
              "\n",
              "         SPMi  PMi         AQI AQI_Range  \n",
              "0  166.840252  0.0  166.840252      Poor  \n",
              "1  166.840252  0.0  166.840252      Poor  \n",
              "2  166.840252  0.0  166.840252      Poor  \n",
              "3  166.840252  0.0  166.840252      Poor  \n",
              "4  166.840252  0.0  166.840252      Poor  "
            ]
          },
          "metadata": {
            "tags": []
          },
          "execution_count": 41
        }
      ]
    },
    {
      "cell_type": "markdown",
      "metadata": {
        "id": "oazyf8dNFP6R"
      },
      "source": [
        "\n",
        "### Remove the rows with null values"
      ]
    },
    {
      "cell_type": "code",
      "metadata": {
        "id": "BenBFJqJFP6R"
      },
      "source": [
        "data=data.dropna(subset=['spm'])"
      ],
      "execution_count": null,
      "outputs": []
    },
    {
      "cell_type": "code",
      "metadata": {
        "id": "MEnnEHCCFP6S"
      },
      "source": [
        "data=data.dropna(subset=['pm2_5'])"
      ],
      "execution_count": null,
      "outputs": []
    },
    {
      "cell_type": "code",
      "metadata": {
        "id": "aaStLHS4FP6S",
        "outputId": "1c600ea2-0c8c-4835-ccd8-2ea7861ce589"
      },
      "source": [
        "data.isna().sum()"
      ],
      "execution_count": null,
      "outputs": [
        {
          "output_type": "execute_result",
          "data": {
            "text/plain": [
              "stn_code                       0\n",
              "sampling_date                  0\n",
              "state                          0\n",
              "location                       0\n",
              "agency                         0\n",
              "type                           0\n",
              "so2                            0\n",
              "no2                            0\n",
              "rspm                           0\n",
              "spm                            0\n",
              "location_monitoring_station    0\n",
              "pm2_5                          0\n",
              "date                           0\n",
              "SOi                            0\n",
              "Noi                            0\n",
              "RSPMi                          0\n",
              "SPMi                           0\n",
              "PMi                            0\n",
              "AQI                            0\n",
              "AQI_Range                      0\n",
              "dtype: int64"
            ]
          },
          "metadata": {
            "tags": []
          },
          "execution_count": 44
        }
      ]
    },
    {
      "cell_type": "markdown",
      "metadata": {
        "id": "HfiRwwOuFP6T"
      },
      "source": [
        "### Linear Regression prediction"
      ]
    },
    {
      "cell_type": "code",
      "metadata": {
        "id": "wR1cu2ilFP6T"
      },
      "source": [
        "from sklearn.model_selection import train_test_split\n",
        "from sklearn.linear_model import LinearRegression\n",
        "from sklearn.metrics import mean_squared_log_error\n",
        "from sklearn.metrics import mean_squared_error\n",
        "from sklearn.metrics import r2_score, mean_squared_error\n",
        "from sklearn.model_selection import KFold\n",
        "from sklearn.model_selection import cross_val_score"
      ],
      "execution_count": null,
      "outputs": []
    },
    {
      "cell_type": "code",
      "metadata": {
        "id": "2XXI2lIQFP6T",
        "outputId": "1301511f-c094-46c6-8d3b-a08b9eb159ec"
      },
      "source": [
        "X = data[['SOi','Noi','RSPMi','SPMi']]\n",
        "y = data['AQI']\n",
        "y.head()"
      ],
      "execution_count": null,
      "outputs": [
        {
          "output_type": "execute_result",
          "data": {
            "text/plain": [
              "0    166.840252\n",
              "1    166.840252\n",
              "2    166.840252\n",
              "3    166.840252\n",
              "4    166.840252\n",
              "Name: AQI, dtype: float64"
            ]
          },
          "metadata": {
            "tags": []
          },
          "execution_count": 46
        }
      ]
    },
    {
      "cell_type": "code",
      "metadata": {
        "id": "sytEUkLIFP6U"
      },
      "source": [
        "\n",
        "X_train, X_test, y_train, y_test = train_test_split(X,y, test_size=0.2,random_state=101)"
      ],
      "execution_count": null,
      "outputs": []
    },
    {
      "cell_type": "code",
      "metadata": {
        "id": "eopbNp2zFP6U",
        "outputId": "59fdfadf-fd16-4011-8dd5-1272cfaf1631"
      },
      "source": [
        "X_train.head()"
      ],
      "execution_count": null,
      "outputs": [
        {
          "output_type": "execute_result",
          "data": {
            "text/html": [
              "<div>\n",
              "<style scoped>\n",
              "    .dataframe tbody tr th:only-of-type {\n",
              "        vertical-align: middle;\n",
              "    }\n",
              "\n",
              "    .dataframe tbody tr th {\n",
              "        vertical-align: top;\n",
              "    }\n",
              "\n",
              "    .dataframe thead th {\n",
              "        text-align: right;\n",
              "    }\n",
              "</style>\n",
              "<table border=\"1\" class=\"dataframe\">\n",
              "  <thead>\n",
              "    <tr style=\"text-align: right;\">\n",
              "      <th></th>\n",
              "      <th>SOi</th>\n",
              "      <th>Noi</th>\n",
              "      <th>RSPMi</th>\n",
              "      <th>SPMi</th>\n",
              "    </tr>\n",
              "  </thead>\n",
              "  <tbody>\n",
              "    <tr>\n",
              "      <th>65062</th>\n",
              "      <td>20.0000</td>\n",
              "      <td>33.7500</td>\n",
              "      <td>93.000000</td>\n",
              "      <td>147.030016</td>\n",
              "    </tr>\n",
              "    <tr>\n",
              "      <th>201418</th>\n",
              "      <td>22.0875</td>\n",
              "      <td>50.8375</td>\n",
              "      <td>138.034082</td>\n",
              "      <td>257.670000</td>\n",
              "    </tr>\n",
              "    <tr>\n",
              "      <th>298400</th>\n",
              "      <td>15.8750</td>\n",
              "      <td>72.1250</td>\n",
              "      <td>0.000000</td>\n",
              "      <td>196.612617</td>\n",
              "    </tr>\n",
              "    <tr>\n",
              "      <th>358185</th>\n",
              "      <td>10.0000</td>\n",
              "      <td>28.7500</td>\n",
              "      <td>64.000000</td>\n",
              "      <td>117.819376</td>\n",
              "    </tr>\n",
              "    <tr>\n",
              "      <th>66339</th>\n",
              "      <td>26.2500</td>\n",
              "      <td>46.1250</td>\n",
              "      <td>0.000000</td>\n",
              "      <td>408.372093</td>\n",
              "    </tr>\n",
              "  </tbody>\n",
              "</table>\n",
              "</div>"
            ],
            "text/plain": [
              "            SOi      Noi       RSPMi        SPMi\n",
              "65062   20.0000  33.7500   93.000000  147.030016\n",
              "201418  22.0875  50.8375  138.034082  257.670000\n",
              "298400  15.8750  72.1250    0.000000  196.612617\n",
              "358185  10.0000  28.7500   64.000000  117.819376\n",
              "66339   26.2500  46.1250    0.000000  408.372093"
            ]
          },
          "metadata": {
            "tags": []
          },
          "execution_count": 48
        }
      ]
    },
    {
      "cell_type": "code",
      "metadata": {
        "id": "LfNi00YzFP6V",
        "outputId": "50ef3704-ad17-45a8-b9d3-0b192bb7c132"
      },
      "source": [
        "LR = LinearRegression() \n",
        "LR.fit(X_train, y_train)"
      ],
      "execution_count": null,
      "outputs": [
        {
          "output_type": "execute_result",
          "data": {
            "text/plain": [
              "LinearRegression()"
            ]
          },
          "metadata": {
            "tags": []
          },
          "execution_count": 57
        }
      ]
    },
    {
      "cell_type": "code",
      "metadata": {
        "id": "PVfB44sbFP6Z",
        "outputId": "9c104439-206c-44d6-a04d-1cbf6d6f8c4a"
      },
      "source": [
        "print('Intercept',LR.intercept_)"
      ],
      "execution_count": null,
      "outputs": [
        {
          "output_type": "stream",
          "text": [
            "Intercept 1.8258252603706069\n"
          ],
          "name": "stdout"
        }
      ]
    },
    {
      "cell_type": "code",
      "metadata": {
        "id": "OulL2sIHFP6a",
        "outputId": "e17736cd-a5d4-4617-e1db-f2849c2fcf29"
      },
      "source": [
        "print('Coefficients',LR.coef_)"
      ],
      "execution_count": null,
      "outputs": [
        {
          "output_type": "stream",
          "text": [
            "Coefficients [0.02433419 0.04469221 0.03931562 0.97620117]\n"
          ],
          "name": "stdout"
        }
      ]
    },
    {
      "cell_type": "code",
      "metadata": {
        "id": "0bOLXg1tFP6a"
      },
      "source": [
        "predictions = LR.predict(X_test)"
      ],
      "execution_count": null,
      "outputs": []
    },
    {
      "cell_type": "code",
      "metadata": {
        "id": "zyRV0PlWFP6b",
        "outputId": "2ad3ef97-49b1-4e2c-e0b0-28d3798c988b"
      },
      "source": [
        "plt.scatter(y_test,predictions)\n",
        "plt.xlabel('predictions')\n",
        "plt.ylabel('AQI ')"
      ],
      "execution_count": null,
      "outputs": [
        {
          "output_type": "execute_result",
          "data": {
            "text/plain": [
              "Text(0, 0.5, 'AQI ')"
            ]
          },
          "metadata": {
            "tags": []
          },
          "execution_count": 61
        },
        {
          "output_type": "display_data",
          "data": {
            "image/png": "[encoded data removed]",
            "text/plain": [
              "<Figure size 432x288 with 1 Axes>"
            ]
          },
          "metadata": {
            "tags": [],
            "needs_background": "light"
          }
        }
      ]
    },
    {
      "cell_type": "code",
      "metadata": {
        "id": "B3o2NozkFP6c",
        "outputId": "5c5281fb-422f-41ac-b4ec-d6f14d04a831"
      },
      "source": [
        "\n",
        "LR.score(X_test,y_test)"
      ],
      "execution_count": null,
      "outputs": [
        {
          "output_type": "execute_result",
          "data": {
            "text/plain": [
              "0.9883511274800427"
            ]
          },
          "metadata": {
            "tags": []
          },
          "execution_count": 62
        }
      ]
    },
    {
      "cell_type": "code",
      "metadata": {
        "id": "GykqMhO7FP6c",
        "outputId": "f3c7d00d-a132-4d77-aa87-d1453e852ad2"
      },
      "source": [
        "LR.predict([[4.8,21.75,78.18,100]])"
      ],
      "execution_count": null,
      "outputs": [
        {
          "output_type": "execute_result",
          "data": {
            "text/plain": [
              "array([103.60849718])"
            ]
          },
          "metadata": {
            "tags": []
          },
          "execution_count": 63
        }
      ]
    },
    {
      "cell_type": "code",
      "metadata": {
        "id": "sPXT9n4aFP6d",
        "outputId": "ad4345c8-c8c2-41e9-d616-ae4f13de8421"
      },
      "source": [
        "LR.predict([[5.2,7.625,76.53,75.0]])"
      ],
      "execution_count": null,
      "outputs": [
        {
          "output_type": "execute_result",
          "data": {
            "text/plain": [
              "array([78.51705339])"
            ]
          },
          "metadata": {
            "tags": []
          },
          "execution_count": 64
        }
      ]
    },
    {
      "cell_type": "code",
      "metadata": {
        "id": "xpVz8MZeFP6d",
        "outputId": "b4bab33d-e96c-4194-8f9a-19335034b830"
      },
      "source": [
        "\n",
        "sns.regplot(y_test,predictions)"
      ],
      "execution_count": null,
      "outputs": [
        {
          "output_type": "execute_result",
          "data": {
            "text/plain": [
              "<AxesSubplot:xlabel='AQI'>"
            ]
          },
          "metadata": {
            "tags": []
          },
          "execution_count": 65
        },
        {
          "output_type": "display_data",
          "data": {
            "image/png": "[encoded data removed]",
            "text/plain": [
              "<Figure size 432x288 with 1 Axes>"
            ]
          },
          "metadata": {
            "tags": [],
            "needs_background": "light"
          }
        }
      ]
    },
    {
      "cell_type": "code",
      "metadata": {
        "id": "_TpXl2RrFP6d",
        "outputId": "6e0e6837-62cc-4291-c595-a677b353af60"
      },
      "source": [
        "print('R^2_Square:%.2f '% r2_score(y_test, predictions))\n",
        "print('MSE:%.2f '% np.sqrt(mean_squared_error(y_test, predictions)))"
      ],
      "execution_count": null,
      "outputs": [
        {
          "output_type": "stream",
          "text": [
            "R^2_Square:0.99 \n",
            "MSE:9.76 \n"
          ],
          "name": "stdout"
        }
      ]
    },
    {
      "cell_type": "markdown",
      "metadata": {
        "id": "ZkGq8FRTFP6e"
      },
      "source": [
        "### Linear Regression Model 2\n"
      ]
    },
    {
      "cell_type": "code",
      "metadata": {
        "id": "XZ0g1OkKFP6e",
        "outputId": "a6151522-0095-44a5-a210-dadf21dc390a"
      },
      "source": [
        "X1= data[['so2','no2','rspm','spm']]\n",
        "y1 = data['AQI']\n",
        "y.tail()"
      ],
      "execution_count": null,
      "outputs": [
        {
          "output_type": "execute_result",
          "data": {
            "text/plain": [
              "435737    189.004349\n",
              "435738    189.004349\n",
              "435739      0.000000\n",
              "435740      0.000000\n",
              "435741      0.000000\n",
              "Name: AQI, dtype: float64"
            ]
          },
          "metadata": {
            "tags": []
          },
          "execution_count": 67
        }
      ]
    },
    {
      "cell_type": "code",
      "metadata": {
        "id": "YBvfcGvqFP6f"
      },
      "source": [
        "X_train1, X_test1, y_train1, y_test1 = train_test_split(X1,y1, test_size=0.2,random_state=101)"
      ],
      "execution_count": null,
      "outputs": []
    },
    {
      "cell_type": "code",
      "metadata": {
        "id": "KWLhwAKSFP6f",
        "outputId": "b96bd266-19f8-4761-c5ba-8a633e25daec"
      },
      "source": [
        "X_train1.head()"
      ],
      "execution_count": null,
      "outputs": [
        {
          "output_type": "execute_result",
          "data": {
            "text/html": [
              "<div>\n",
              "<style scoped>\n",
              "    .dataframe tbody tr th:only-of-type {\n",
              "        vertical-align: middle;\n",
              "    }\n",
              "\n",
              "    .dataframe tbody tr th {\n",
              "        vertical-align: top;\n",
              "    }\n",
              "\n",
              "    .dataframe thead th {\n",
              "        text-align: right;\n",
              "    }\n",
              "</style>\n",
              "<table border=\"1\" class=\"dataframe\">\n",
              "  <thead>\n",
              "    <tr style=\"text-align: right;\">\n",
              "      <th></th>\n",
              "      <th>so2</th>\n",
              "      <th>no2</th>\n",
              "      <th>rspm</th>\n",
              "      <th>spm</th>\n",
              "    </tr>\n",
              "  </thead>\n",
              "  <tbody>\n",
              "    <tr>\n",
              "      <th>65062</th>\n",
              "      <td>16.00</td>\n",
              "      <td>27.00</td>\n",
              "      <td>93.000000</td>\n",
              "      <td>170.545024</td>\n",
              "    </tr>\n",
              "    <tr>\n",
              "      <th>201418</th>\n",
              "      <td>17.67</td>\n",
              "      <td>40.67</td>\n",
              "      <td>119.330000</td>\n",
              "      <td>307.670000</td>\n",
              "    </tr>\n",
              "    <tr>\n",
              "      <th>298400</th>\n",
              "      <td>12.70</td>\n",
              "      <td>57.70</td>\n",
              "      <td>210.000000</td>\n",
              "      <td>244.918926</td>\n",
              "    </tr>\n",
              "    <tr>\n",
              "      <th>358185</th>\n",
              "      <td>8.00</td>\n",
              "      <td>23.00</td>\n",
              "      <td>64.000000</td>\n",
              "      <td>126.729064</td>\n",
              "    </tr>\n",
              "    <tr>\n",
              "      <th>66339</th>\n",
              "      <td>21.00</td>\n",
              "      <td>36.90</td>\n",
              "      <td>196.639771</td>\n",
              "      <td>466.000000</td>\n",
              "    </tr>\n",
              "  </tbody>\n",
              "</table>\n",
              "</div>"
            ],
            "text/plain": [
              "          so2    no2        rspm         spm\n",
              "65062   16.00  27.00   93.000000  170.545024\n",
              "201418  17.67  40.67  119.330000  307.670000\n",
              "298400  12.70  57.70  210.000000  244.918926\n",
              "358185   8.00  23.00   64.000000  126.729064\n",
              "66339   21.00  36.90  196.639771  466.000000"
            ]
          },
          "metadata": {
            "tags": []
          },
          "execution_count": 69
        }
      ]
    },
    {
      "cell_type": "code",
      "metadata": {
        "id": "pUpAONwtFP6f"
      },
      "source": [
        "LR1 = LinearRegression()\n",
        "LR1.fit(X_train1, y_train1)\n",
        "prediction1 = LR1.predict(X_test1)"
      ],
      "execution_count": null,
      "outputs": []
    },
    {
      "cell_type": "code",
      "metadata": {
        "id": "U7AcNMsRFP6g",
        "outputId": "761d84fb-b15b-431f-ab22-e4dfe8b3d746"
      },
      "source": [
        "plt.scatter(y_test1,prediction1) #scatter plot for actual and predicted values\n",
        "plt.xlabel('Y Test')\n",
        "plt.ylabel('Predicted Y')"
      ],
      "execution_count": null,
      "outputs": [
        {
          "output_type": "execute_result",
          "data": {
            "text/plain": [
              "Text(0, 0.5, 'Predicted Y')"
            ]
          },
          "metadata": {
            "tags": []
          },
          "execution_count": 71
        },
        {
          "output_type": "display_data",
          "data": {
            "image/png": "[encoded data removed]",
            "text/plain": [
              "<Figure size 432x288 with 1 Axes>"
            ]
          },
          "metadata": {
            "tags": [],
            "needs_background": "light"
          }
        }
      ]
    },
    {
      "cell_type": "code",
      "metadata": {
        "id": "SH1aBYoqFP6g",
        "outputId": "3d01a702-0da8-4094-95c9-f4200d8ed350"
      },
      "source": [
        "LR1.predict([[9.1,16.3,67,179]])"
      ],
      "execution_count": null,
      "outputs": [
        {
          "output_type": "execute_result",
          "data": {
            "text/plain": [
              "array([155.91758782])"
            ]
          },
          "metadata": {
            "tags": []
          },
          "execution_count": 72
        }
      ]
    },
    {
      "cell_type": "code",
      "metadata": {
        "id": "ri0zWX0GFP6h",
        "outputId": "774e4a19-9782-4ec8-cefa-63ebb8156d29"
      },
      "source": [
        "sns.regplot(y_test1,prediction1) #regression plot"
      ],
      "execution_count": null,
      "outputs": [
        {
          "output_type": "execute_result",
          "data": {
            "text/plain": [
              "<AxesSubplot:xlabel='AQI'>"
            ]
          },
          "metadata": {
            "tags": []
          },
          "execution_count": 73
        },
        {
          "output_type": "display_data",
          "data": {
            "image/png": "[encoded data removed]",
            "text/plain": [
              "<Figure size 432x288 with 1 Axes>"
            ]
          },
          "metadata": {
            "tags": [],
            "needs_background": "light"
          }
        }
      ]
    },
    {
      "cell_type": "code",
      "metadata": {
        "id": "XvFtXiI7FP6h"
      },
      "source": [
        "\n",
        "y_test1_np= np.array(y_test1)\n",
        "prediction1_np = np.array(prediction1)"
      ],
      "execution_count": null,
      "outputs": []
    },
    {
      "cell_type": "code",
      "metadata": {
        "id": "SJ0canx4FP6h",
        "outputId": "e5ccfd3a-cabd-45dd-8006-07cc898e79c1"
      },
      "source": [
        "LR1.score(X_test1,y_test1)"
      ],
      "execution_count": null,
      "outputs": [
        {
          "output_type": "execute_result",
          "data": {
            "text/plain": [
              "0.9469175947933336"
            ]
          },
          "metadata": {
            "tags": []
          },
          "execution_count": 75
        }
      ]
    },
    {
      "cell_type": "code",
      "metadata": {
        "id": "s3pZXeqMFP6i",
        "outputId": "2f4110ec-c8d7-4397-f40c-e3042b08814e"
      },
      "source": [
        "\n",
        "print('R^2_Square:%.2f '% r2_score(y_test1, prediction1))\n",
        "print('MSE:%.2f '% np.sqrt(mean_squared_error(y_test1, prediction1)))"
      ],
      "execution_count": null,
      "outputs": [
        {
          "output_type": "stream",
          "text": [
            "R^2_Square:0.95 \n",
            "MSE:20.84 \n"
          ],
          "name": "stdout"
        }
      ]
    },
    {
      "cell_type": "markdown",
      "metadata": {
        "id": "5VzKMIU8FP6i"
      },
      "source": [
        "### Logistic Regression¶"
      ]
    },
    {
      "cell_type": "code",
      "metadata": {
        "id": "4oKWVgo8FP6i"
      },
      "source": [
        "from sklearn.linear_model import LogisticRegression"
      ],
      "execution_count": null,
      "outputs": []
    },
    {
      "cell_type": "code",
      "metadata": {
        "id": "ogSybeXrFP6j"
      },
      "source": [
        "X2 = data[['SOi','Noi','RSPMi','SPMi']]\n",
        "y2 = data['AQI_Range']"
      ],
      "execution_count": null,
      "outputs": []
    },
    {
      "cell_type": "code",
      "metadata": {
        "id": "yOi2_qpAFP6j"
      },
      "source": [
        "X_train2, X_test2, y_train2, y_test2 = train_test_split(X2, y2, test_size=0.33, random_state=42)"
      ],
      "execution_count": null,
      "outputs": []
    },
    {
      "cell_type": "code",
      "metadata": {
        "id": "x5jnN2b2FP6j",
        "outputId": "1d815a37-a61d-4919-a153-a4e2aef3a3b0"
      },
      "source": [
        "logmodel = LogisticRegression()\n",
        "logmodel.fit(X_train2,y_train2)"
      ],
      "execution_count": null,
      "outputs": [
        {
          "output_type": "execute_result",
          "data": {
            "text/plain": [
              "LogisticRegression()"
            ]
          },
          "metadata": {
            "tags": []
          },
          "execution_count": 86
        }
      ]
    },
    {
      "cell_type": "code",
      "metadata": {
        "id": "VAwCDF4CFP6k"
      },
      "source": [
        "predictions = logmodel.predict(X_test) #very low accuracy score"
      ],
      "execution_count": null,
      "outputs": []
    },
    {
      "cell_type": "code",
      "metadata": {
        "id": "kS9ib4jAFP6k",
        "outputId": "e82e01e6-dba0-441d-b8d8-c7d8b097047b"
      },
      "source": [
        "logmodel.score(X_test2,y_test2)"
      ],
      "execution_count": null,
      "outputs": [
        {
          "output_type": "execute_result",
          "data": {
            "text/plain": [
              "0.6301818561146076"
            ]
          },
          "metadata": {
            "tags": []
          },
          "execution_count": 88
        }
      ]
    },
    {
      "cell_type": "code",
      "metadata": {
        "id": "FdA4Zh7mFP6k",
        "outputId": "d0d76db0-1de9-4103-8291-85e75ea0d537"
      },
      "source": [
        "logmodel.predict([[32.7,35,78.182,203]])"
      ],
      "execution_count": null,
      "outputs": [
        {
          "output_type": "execute_result",
          "data": {
            "text/plain": [
              "array(['Poor'], dtype=object)"
            ]
          },
          "metadata": {
            "tags": []
          },
          "execution_count": 91
        }
      ]
    },
    {
      "cell_type": "code",
      "metadata": {
        "id": "S00uJzh8N9ed"
      },
      "source": [
        "# y = b0+ b1*x1 + b2*x2 + b3*x3 + b4*x4\n",
        "# y = 1.8258252603706069 + 32.7(0.02433419) + 35(0.04469221) + 78.182(0.03931562) + 203(0.97620117)"
      ],
      "execution_count": 72,
      "outputs": []
    },
    {
      "cell_type": "code",
      "metadata": {
        "id": "GTnCwfogPkhs"
      },
      "source": [
        "import math\n",
        "import numpy as np"
      ],
      "execution_count": 88,
      "outputs": []
    },
    {
      "cell_type": "code",
      "metadata": {
        "id": "Ku7624AAPWsm"
      },
      "source": [
        "def sigmoid(x):\n",
        "  return 1 / (1 + math. exp(-x))"
      ],
      "execution_count": 97,
      "outputs": []
    },
    {
      "cell_type": "code",
      "metadata": {
        "colab": {
          "base_uri": "https://localhost:8080/"
        },
        "id": "AUW1OsDoO7N_",
        "outputId": "bbb0353e-2c56-47cf-b292-aebb25522659"
      },
      "source": [
        "y_linear =1.8258252603706069 + 32.7*0.02433419 + 35*0.04469221 + 78.182*0.03931562 + 203*0.97620117\n",
        "y # 205.4283919362106\n",
        "p = sigmoid(y_linear)\n",
        "p"
      ],
      "execution_count": 98,
      "outputs": [
        {
          "output_type": "execute_result",
          "data": {
            "text/plain": [
              "1.0"
            ]
          },
          "metadata": {
            "tags": []
          },
          "execution_count": 98
        }
      ]
    },
    {
      "cell_type": "code",
      "metadata": {
        "id": "2rlYkYRESkbq"
      },
      "source": [
        ""
      ],
      "execution_count": null,
      "outputs": []
    },
    {
      "cell_type": "code",
      "metadata": {
        "colab": {
          "base_uri": "https://localhost:8080/"
        },
        "id": "d_yNRHXuSkrD",
        "outputId": "cbab4b66-07e6-4d17-c086-6818afede695"
      },
      "source": [
        "y_linear2 = 1.8258252603706069 + 77.4*0.02433419 + 147.7*0.04469221 + 78.182*0.03931562 + 100*0.97620117\n",
        "p = sigmoid(y_linear2)\n",
        "p"
      ],
      "execution_count": 99,
      "outputs": [
        {
          "output_type": "execute_result",
          "data": {
            "text/plain": [
              "1.0"
            ]
          },
          "metadata": {
            "tags": []
          },
          "execution_count": 99
        }
      ]
    },
    {
      "cell_type": "code",
      "metadata": {
        "colab": {
          "base_uri": "https://localhost:8080/"
        },
        "id": "aGC-q9XJQD-R",
        "outputId": "13f78a6b-afd9-4a26-ed84-4bceb597ffdd"
      },
      "source": [
        "np.log(p/1-p)"
      ],
      "execution_count": 100,
      "outputs": [
        {
          "output_type": "execute_result",
          "data": {
            "text/plain": [
              "-inf"
            ]
          },
          "metadata": {
            "tags": []
          },
          "execution_count": 100
        }
      ]
    },
    {
      "cell_type": "code",
      "metadata": {
        "id": "PtxTaLD1FP6l",
        "outputId": "a1d5ff25-8050-40d1-88be-e81484db21cf"
      },
      "source": [
        "logmodel.predict([[77.4,147.7,78.182,100]])"
      ],
      "execution_count": null,
      "outputs": [
        {
          "output_type": "execute_result",
          "data": {
            "text/plain": [
              "array(['Good'], dtype=object)"
            ]
          },
          "metadata": {
            "tags": []
          },
          "execution_count": 95
        }
      ]
    },
    {
      "cell_type": "markdown",
      "metadata": {
        "id": "oXgkFS9pFP6m"
      },
      "source": [
        "### Using Random forest classifier"
      ]
    },
    {
      "cell_type": "code",
      "metadata": {
        "id": "C2ndJ-oeFP6m"
      },
      "source": [
        "from sklearn.ensemble import RandomForestClassifier"
      ],
      "execution_count": null,
      "outputs": []
    },
    {
      "cell_type": "code",
      "metadata": {
        "id": "KHOdc36TFP6m",
        "outputId": "8da8a366-d39a-4c0e-c7ea-7ceb84a3672c"
      },
      "source": [
        "model = RandomForestClassifier(n_estimators=10)\n",
        "model.fit(X_train2,y_train2)"
      ],
      "execution_count": null,
      "outputs": [
        {
          "output_type": "execute_result",
          "data": {
            "text/plain": [
              "RandomForestClassifier(n_estimators=10)"
            ]
          },
          "metadata": {
            "tags": []
          },
          "execution_count": 88
        }
      ]
    },
    {
      "cell_type": "code",
      "metadata": {
        "id": "63ygdbx-FP6n",
        "outputId": "5453aa17-fc03-48fb-dfd3-66168c0c3483"
      },
      "source": [
        "model.score(X_test2,y_test2)"
      ],
      "execution_count": null,
      "outputs": [
        {
          "output_type": "execute_result",
          "data": {
            "text/plain": [
              "0.9996661914531103"
            ]
          },
          "metadata": {
            "tags": []
          },
          "execution_count": 90
        }
      ]
    },
    {
      "cell_type": "code",
      "metadata": {
        "id": "nDeCji7JFP6n",
        "outputId": "175272db-cee1-44a2-d9e6-d6d0bfc4b9da"
      },
      "source": [
        "X_train2.head()"
      ],
      "execution_count": null,
      "outputs": [
        {
          "output_type": "execute_result",
          "data": {
            "text/html": [
              "<div>\n",
              "<style scoped>\n",
              "    .dataframe tbody tr th:only-of-type {\n",
              "        vertical-align: middle;\n",
              "    }\n",
              "\n",
              "    .dataframe tbody tr th {\n",
              "        vertical-align: top;\n",
              "    }\n",
              "\n",
              "    .dataframe thead th {\n",
              "        text-align: right;\n",
              "    }\n",
              "</style>\n",
              "<table border=\"1\" class=\"dataframe\">\n",
              "  <thead>\n",
              "    <tr style=\"text-align: right;\">\n",
              "      <th></th>\n",
              "      <th>SOi</th>\n",
              "      <th>Noi</th>\n",
              "      <th>RSPMi</th>\n",
              "      <th>SPMi</th>\n",
              "    </tr>\n",
              "  </thead>\n",
              "  <tbody>\n",
              "    <tr>\n",
              "      <th>223995</th>\n",
              "      <td>13.75</td>\n",
              "      <td>15.000</td>\n",
              "      <td>51.000000</td>\n",
              "      <td>80.000000</td>\n",
              "    </tr>\n",
              "    <tr>\n",
              "      <th>316706</th>\n",
              "      <td>11.25</td>\n",
              "      <td>17.500</td>\n",
              "      <td>115.142857</td>\n",
              "      <td>196.612617</td>\n",
              "    </tr>\n",
              "    <tr>\n",
              "      <th>253607</th>\n",
              "      <td>20.00</td>\n",
              "      <td>45.000</td>\n",
              "      <td>73.000000</td>\n",
              "      <td>170.170549</td>\n",
              "    </tr>\n",
              "    <tr>\n",
              "      <th>149585</th>\n",
              "      <td>15.00</td>\n",
              "      <td>27.500</td>\n",
              "      <td>55.000000</td>\n",
              "      <td>145.334495</td>\n",
              "    </tr>\n",
              "    <tr>\n",
              "      <th>418919</th>\n",
              "      <td>7.00</td>\n",
              "      <td>49.875</td>\n",
              "      <td>52.000000</td>\n",
              "      <td>117.333333</td>\n",
              "    </tr>\n",
              "  </tbody>\n",
              "</table>\n",
              "</div>"
            ],
            "text/plain": [
              "          SOi     Noi       RSPMi        SPMi\n",
              "223995  13.75  15.000   51.000000   80.000000\n",
              "316706  11.25  17.500  115.142857  196.612617\n",
              "253607  20.00  45.000   73.000000  170.170549\n",
              "149585  15.00  27.500   55.000000  145.334495\n",
              "418919   7.00  49.875   52.000000  117.333333"
            ]
          },
          "metadata": {
            "tags": []
          },
          "execution_count": 91
        }
      ]
    },
    {
      "cell_type": "code",
      "metadata": {
        "id": "G2BenlZyFP6o",
        "outputId": "a602b346-ca29-4d06-f4d9-465fbbe5a371"
      },
      "source": [
        "model.predict([[2.059,8.94,102,256]])"
      ],
      "execution_count": null,
      "outputs": [
        {
          "output_type": "execute_result",
          "data": {
            "text/plain": [
              "array(['Unhealthy'], dtype=object)"
            ]
          },
          "metadata": {
            "tags": []
          },
          "execution_count": 92
        }
      ]
    },
    {
      "cell_type": "markdown",
      "metadata": {
        "id": "DQsOjgnzFP6o"
      },
      "source": [
        "\n",
        "#### Conclusion\n",
        "#### AQI is highly correlated with all the independent variables(so2, no2, rspm, spm)\n",
        "#### AQI has been increasing over the years."
      ]
    },
    {
      "cell_type": "markdown",
      "metadata": {
        "id": "70HZcOC_FP6p"
      },
      "source": [
        "#### Best models for AQI range classification :\n",
        "#### Random Forest Classifier\n"
      ]
    },
    {
      "cell_type": "code",
      "metadata": {
        "id": "_dolxGazFP6p"
      },
      "source": [
        ""
      ],
      "execution_count": null,
      "outputs": []
    },
    {
      "cell_type": "code",
      "metadata": {
        "id": "s-Q88LENFP6p"
      },
      "source": [
        ""
      ],
      "execution_count": null,
      "outputs": []
    }
  ]
}